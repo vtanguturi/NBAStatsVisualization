{
 "cells": [
  {
   "cell_type": "code",
   "execution_count": 2,
   "metadata": {},
   "outputs": [],
   "source": [
    "##Imports\n",
    "%matplotlib inline\n",
    "import requests\n",
    "import matplotlib.pyplot as plt\n",
    "import numpy as np\n",
    "import pandas as pd\n",
    "import seaborn as sns\n",
    "import json\n",
    "from headers import get_headers\n",
    "## This is to get the connection to the nba endpoints correctly (hot fix to work until they push changes)\n",
    "headers = get_headers()"
   ]
  },
  {
   "cell_type": "code",
   "execution_count": 3,
   "metadata": {},
   "outputs": [],
   "source": [
    "## Build the team name to team_id map\n",
    "from nba_api.stats.static import teams\n",
    "nba_teams = teams.get_teams()\n",
    "list_teams = ['ATL', 'BOS', 'CLE', 'NOP', 'CHI', 'DAL', 'DEN', 'GSW', 'HOU', 'LAC', 'LAL'\n",
    "        , 'MIA', 'MIL', 'MIN', 'BKN', 'NYK', 'ORL', 'IND', 'PHI', 'PHX', 'POR', 'SAC'\n",
    "        , 'SAS', 'OKC', 'TOR', 'UTA', 'MEM', 'WAS', 'DET', 'CHA']\n",
    "i = 0\n",
    "team_to_id = {}\n",
    "for t in list_teams:\n",
    "    team_to_id.update({t: nba_teams[i]['id']})\n",
    "    i += 1"
   ]
  },
  {
   "cell_type": "code",
   "execution_count": 4,
   "metadata": {},
   "outputs": [],
   "source": [
    "from nba_api.stats.endpoints import teamgamelog\n",
    "from nba_api.stats.endpoints import winprobabilitypbp"
   ]
  },
  {
   "cell_type": "code",
   "execution_count": 50,
   "metadata": {},
   "outputs": [],
   "source": [
    "def plot_game_win_probability(win_probability, title):\n",
    "    home_pct = win_probability['HOME_PCT'].values\n",
    "    visit_pct = win_probability['VISITOR_PCT'].values\n",
    "    \n",
    "    home_pts = win_probability['HOME_PTS'].values\n",
    "    visit_pts = win_probability['VISITOR_PTS'].values\n",
    "    \n",
    "    ind = range(len(home_pct))\n",
    "    plt.plot(ind, home_pts, 'g.')\n",
    "    plt.plot(ind, visit_pts, 'r^')\n",
    "    plt.title(title)\n",
    "    if '@' in title:\n",
    "        home_team = title[-3:]\n",
    "        away_team = title[:3]\n",
    "    else:\n",
    "        home_team = title[:3]\n",
    "        away_team = title[-3:]\n",
    "    plt.legend((home_team, away_team))\n",
    "    teams = {'home': home_team, 'visit': away_team}\n",
    "    \n",
    "    ## Annotate the graph with the important points and print out all the plays:\n",
    "    game_pct = np.abs(home_pct - visit_pct)\n",
    "    game_inflection = get_inflection_point_occurences(game_pct, 2)\n",
    "\n",
    "    plt.plot(game_inflection[0:10], 10*[0], 'bX', markersize=20)\n",
    "\n",
    "    print(\"Game important plays: \")\n",
    "    get_influential_plays(win_probability, game_inflection, teams)     \n",
    "    plt.show()"
   ]
  },
  {
   "cell_type": "code",
   "execution_count": 55,
   "metadata": {},
   "outputs": [],
   "source": [
    "def generate_win_probability_team(team, NUMBER_GAMES):\n",
    "    gpbp = teamgamelog.TeamGameLog(team_id=team_to_id[team], headers=headers)\n",
    "    tgl = gpbp.get_data_frames()[0]\n",
    "    games = tgl['Game_ID'].values\n",
    "    matchups = tgl['MATCHUP'].values\n",
    "    results = tgl['WL'].values\n",
    "    i = 0\n",
    "    selected_games = games[0:NUMBER_GAMES]\n",
    "    for game in selected_games:\n",
    "        wpp = winprobabilitypbp.WinProbabilityPBP(game_id=game, headers=headers)\n",
    "        wp = wpp.get_data_frames()[0]\n",
    "        plot_game_win_probability(wp, matchups[i])\n",
    "        print(\"This game resulted with %s getting the %s\" % (team, results[i]))\n",
    "        print(\"====================================================================\")\n",
    "        i += 1"
   ]
  },
  {
   "cell_type": "code",
   "execution_count": 56,
   "metadata": {},
   "outputs": [],
   "source": [
    "def get_inflection_point_occurences(team_data, derivative_type):\n",
    "    second_deriv = np.diff(team_data, n=derivative_type).tolist()\n",
    "    second_deriv_sorted = sorted(second_deriv, reverse=True)\n",
    "    inflection_occurences = []\n",
    "    for i in second_deriv_sorted:\n",
    "        inflection_occurences.append(second_deriv.index(i) + 2)\n",
    "    return inflection_occurences    \n",
    "\n",
    "def get_influential_plays(wp, inflection_occurences, teams):\n",
    "    events = wp['EVENT_NUM'].values\n",
    "    descriptions = wp['DESCRIPTION'].values\n",
    "    quarter = wp['PERIOD'].values\n",
    "    time_in_quarter = wp['SECONDS_REMAINING'].values\n",
    "    home_possession = wp['HOME_POSS_IND'].values\n",
    "    \n",
    "    event_inflect = events[inflection_occurences]\n",
    "    di = descriptions[inflection_occurences]\n",
    "    qi = quarter[inflection_occurences]\n",
    "    ti = time_in_quarter[inflection_occurences]\n",
    "    hpi = home_possession[inflection_occurences]\n",
    "    \n",
    "    put_the_output(di, ti, qi, hpi, teams)\n",
    "    \n",
    "def put_the_output(desc_inflect, tiq_inflect, quarter_inflect, home_posessions, teams):\n",
    "    number = 10\n",
    "    home_plays = 0\n",
    "    visit_plays = 0\n",
    "    print(\"Top turning point descriptions: \")\n",
    "    print(\"========================================================\")\n",
    "    for i in range(len(desc_inflect)):\n",
    "        d = desc_inflect[i]\n",
    "        if d is not None:\n",
    "            number = number - 1\n",
    "            if home_posessions[i] == 1:\n",
    "                home_plays += 1\n",
    "            else:\n",
    "                visit_plays += 1\n",
    "            print('Q%s: %s left %s' % (quarter_inflect[i], convert_secs_into_gametime(tiq_inflect[i]), d))\n",
    "        if number <= 0:\n",
    "            break\n",
    "    print(\"========================================================\")\n",
    "    print(\"Important plays: \\n%s:%d\\n%s:%d\" % (teams['home'], home_plays, teams['visit'], visit_plays))\n",
    "    \n",
    "def convert_secs_into_gametime(time_left_quarters):\n",
    "    seconds = time_left_quarters % 60\n",
    "    minutes = (time_left_quarters - seconds) / 60\n",
    "    return '%d:%d' % (minutes, seconds)"
   ]
  },
  {
   "cell_type": "code",
   "execution_count": 58,
   "metadata": {},
   "outputs": [
    {
     "name": "stdout",
     "output_type": "stream",
     "text": [
      "Game important plays: \n",
      "Top turning point descriptions: \n",
      "========================================================\n",
      "Q3: 6:16 left Gobert 1' Tip Layup Shot (12 PTS)\n",
      "Q4: 4:55 left Dragic Free Throw 2 of 2 (11 PTS)\n",
      "Q3: 3:1 left Clarkson 24' 3PT Jump Shot (14 PTS) (Bogdanovic 4 AST)\n",
      "Q4: 8:48 left Clarkson 25' 3PT Jump Shot (18 PTS)\n",
      "Q3: 8:48 left Nunn 26' 3PT Jump Shot (9 PTS) (Adebayo 5 AST)\n",
      "Q4: 10:33 left Niang 24' 3PT Step Back Jump Shot (7 PTS) (Clarkson 3 AST)\n",
      "Q2: 1:35 left Robinson 25' 3PT Step Back Jump Shot (12 PTS) (Adebayo 4 AST)\n",
      "Q4: 10:59 left Bradley REBOUND (Off:2 Def:4)\n",
      "Q4: 2:56 left Bogdanovic 26' 3PT Jump Shot (19 PTS) (Ingles 8 AST)\n",
      "Q3: 3:57 left Mitchell 9' Driving Floating Jump Shot (18 PTS)\n",
      "========================================================\n",
      "Important plays: \n",
      "UTA:4\n",
      "MIA:6\n"
     ]
    },
    {
     "data": {
      "image/png": "[encoded data removed]",
      "text/plain": [
       "<Figure size 432x288 with 1 Axes>"
      ]
     },
     "metadata": {
      "needs_background": "light"
     },
     "output_type": "display_data"
    },
    {
     "name": "stdout",
     "output_type": "stream",
     "text": [
      "This game resulted with MIA getting the L\n",
      "====================================================================\n"
     ]
    }
   ],
   "source": [
    "generate_win_probability_team('MIA', 1)"
   ]
  },
  {
   "cell_type": "code",
   "execution_count": 59,
   "metadata": {},
   "outputs": [
    {
     "name": "stdout",
     "output_type": "stream",
     "text": [
      "Game important plays: \n",
      "Top turning point descriptions: \n",
      "========================================================\n",
      "Q4: 4:40 left Murray 24' 3PT Step Back Jump Shot (28 PTS)\n",
      "Q4: 0:23 left Lakers Timeout: Regular (Reg.7 Short 0)\n",
      "Q4: 3:45 left Jokic Lost Ball Turnover (P2.T10)#@#Davis STEAL (2 STL)\n",
      "Q5: 2:41 left Davis 25' 3PT Jump Shot (32 PTS) (James 14 AST)\n",
      "Q4: 1:36 left SUB: Craig FOR Morris\n",
      "Q4: 3:22 left Jokic P.FOUL (P5.PN) (R.Acosta)\n",
      "Q4: 1:43 left Caruso 2' Cutting Finger Roll Layup Shot (10 PTS) (James 12 AST)\n",
      "Q4: 2:24 left Davis 1' Tip Layup Shot (26 PTS)\n",
      "Q3: 11:24 left Green  3PT Jump Shot (3 PTS) (James 7 AST)\n",
      "Q4: 3:43 left Jokic REBOUND (Off:1 Def:7)\n",
      "========================================================\n",
      "Important plays: \n",
      "DEN:6\n",
      "LAL:4\n"
     ]
    },
    {
     "data": {
      "image/png": "[encoded data removed]",
      "text/plain": [
       "<Figure size 432x288 with 1 Axes>"
      ]
     },
     "metadata": {
      "needs_background": "light"
     },
     "output_type": "display_data"
    },
    {
     "name": "stdout",
     "output_type": "stream",
     "text": [
      "This game resulted with LAL getting the W\n",
      "====================================================================\n"
     ]
    }
   ],
   "source": [
    "generate_win_probability_team('LAL', 1)"
   ]
  },
  {
   "cell_type": "code",
   "execution_count": 60,
   "metadata": {},
   "outputs": [
    {
     "name": "stdout",
     "output_type": "stream",
     "text": [
      "Game important plays: \n",
      "Top turning point descriptions: \n",
      "========================================================\n",
      "Q4: 2:28 left Tatum 26' 3PT Jump Shot (27 PTS) (Smart 3 AST)\n",
      "Q4: 1:30 left Tatum 12' Fadeaway Jumper (29 PTS)\n",
      "Q4: 3:38 left Theis Free Throw 1 of 2 (11 PTS)\n",
      "Q4: 2:41 left Hayward REBOUND (Off:2 Def:6)\n",
      "Q4: 1:7 left Out-of-Bounds\n",
      "Q4: 3:4 left Out-of-Bounds\n",
      "Q4: 4:15 left Theis 1' Tip Layup Shot (10 PTS)\n",
      "Q4: 0:0 left CELTICS Rebound\n",
      "Q4: 2:11 left Harrell Traveling Turnover (P2.T11)\n",
      "Q4: 4:16 left Theis REBOUND (Off:3 Def:2)\n",
      "========================================================\n",
      "Important plays: \n",
      "BOS:5\n",
      "LAC:5\n"
     ]
    },
    {
     "data": {
      "image/png": "[encoded data removed]",
      "text/plain": [
       "<Figure size 432x288 with 1 Axes>"
      ]
     },
     "metadata": {
      "needs_background": "light"
     },
     "output_type": "display_data"
    },
    {
     "name": "stdout",
     "output_type": "stream",
     "text": [
      "This game resulted with BOS getting the W\n",
      "====================================================================\n"
     ]
    }
   ],
   "source": [
    "generate_win_probability_team('BOS', 1)"
   ]
  },
  {
   "cell_type": "code",
   "execution_count": 61,
   "metadata": {},
   "outputs": [
    {
     "name": "stdout",
     "output_type": "stream",
     "text": [
      "Game important plays: \n",
      "Top turning point descriptions: \n",
      "========================================================\n",
      "Q4: 2:28 left Tatum 26' 3PT Jump Shot (27 PTS) (Smart 3 AST)\n",
      "Q4: 1:30 left Tatum 12' Fadeaway Jumper (29 PTS)\n",
      "Q4: 3:38 left Theis Free Throw 1 of 2 (11 PTS)\n",
      "Q4: 2:41 left Hayward REBOUND (Off:2 Def:6)\n",
      "Q4: 1:7 left Out-of-Bounds\n",
      "Q4: 3:4 left Out-of-Bounds\n",
      "Q4: 4:15 left Theis 1' Tip Layup Shot (10 PTS)\n",
      "Q4: 0:0 left CELTICS Rebound\n",
      "Q4: 2:11 left Harrell Traveling Turnover (P2.T11)\n",
      "Q4: 4:16 left Theis REBOUND (Off:3 Def:2)\n",
      "========================================================\n",
      "Important plays: \n",
      "BOS:5\n",
      "LAC:5\n"
     ]
    },
    {
     "data": {
      "image/png": "[encoded data removed]",
      "text/plain": [
       "<Figure size 432x288 with 1 Axes>"
      ]
     },
     "metadata": {
      "needs_background": "light"
     },
     "output_type": "display_data"
    },
    {
     "name": "stdout",
     "output_type": "stream",
     "text": [
      "This game resulted with LAC getting the L\n",
      "====================================================================\n"
     ]
    }
   ],
   "source": [
    "generate_win_probability_team('LAC', 1)"
   ]
  }
 ],
 "metadata": {
  "kernelspec": {
   "display_name": "Python 3",
   "language": "python",
   "name": "python3"
  },
  "language_info": {
   "codemirror_mode": {
    "name": "ipython",
    "version": 3
   },
   "file_extension": ".py",
   "mimetype": "text/x-python",
   "name": "python",
   "nbconvert_exporter": "python",
   "pygments_lexer": "ipython3",
   "version": "3.6.7"
  }
 },
 "nbformat": 4,
 "nbformat_minor": 2
}
