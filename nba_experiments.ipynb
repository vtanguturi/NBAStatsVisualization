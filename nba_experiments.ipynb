{
 "cells": [
  {
   "cell_type": "code",
   "execution_count": 102,
   "metadata": {},
   "outputs": [],
   "source": [
    "##Imports\n",
    "%matplotlib inline\n",
    "import requests\n",
    "import matplotlib.pyplot as plt\n",
    "import numpy as np\n",
    "import pandas as pd\n",
    "import seaborn as sns\n",
    "import json\n",
    "from nba_api.stats.endpoints import playergamelog\n",
    "from nba_api.stats.endpoints import franchiseplayers"
   ]
  },
  {
   "cell_type": "code",
   "execution_count": 2,
   "metadata": {},
   "outputs": [],
   "source": [
    "## This is to get the connection to the nba endpoints correctly (hot fix to work until they push changes)\n",
    "headers = {\n",
    "    'Host': 'stats.nba.com',\n",
    "    'User-Agent': 'Mozilla/5.0 (Windows NT 10.0; Win64; x64; rv:61.0) Gecko/20100101 Firefox/61.0',\n",
    "    'Accept': 'application/json, text/plain, */*',\n",
    "    'Accept-Language': 'en-US,en;q=0.5',\n",
    "    'Referer': 'https://stats.nba.com/',\n",
    "    'Accept-Encoding': 'gzip, deflate, br',\n",
    "    'Connection': 'keep-alive',\n",
    "}"
   ]
  },
  {
   "cell_type": "code",
   "execution_count": 3,
   "metadata": {},
   "outputs": [],
   "source": [
    "## This is function to draw nba_court\n",
    "from matplotlib.patches import Circle, Rectangle, Arc\n",
    "\n",
    "def draw_court(ax=None, color='black', lw=2, outer_lines=False):\n",
    "    # If an axes object isn't provided to plot onto, just get current one\n",
    "    if ax is None:\n",
    "        ax = plt.gca()\n",
    "\n",
    "    # Create the various parts of an NBA basketball court\n",
    "\n",
    "    # Create the basketball hoop\n",
    "    # Diameter of a hoop is 18\" so it has a radius of 9\", which is a value\n",
    "    # 7.5 in our coordinate system\n",
    "    hoop = Circle((0, 0), radius=7.5, linewidth=lw, color=color, fill=False)\n",
    "\n",
    "    # Create backboard\n",
    "    backboard = Rectangle((-30, -7.5), 60, -1, linewidth=lw, color=color)\n",
    "\n",
    "    # The paint\n",
    "    # Create the outer box 0f the paint, width=16ft, height=19ft\n",
    "    outer_box = Rectangle((-80, -47.5), 160, 190, linewidth=lw, color=color,\n",
    "                          fill=False)\n",
    "    # Create the inner box of the paint, widt=12ft, height=19ft\n",
    "    inner_box = Rectangle((-60, -47.5), 120, 190, linewidth=lw, color=color,\n",
    "                          fill=False)\n",
    "\n",
    "    # Create free throw top arc\n",
    "    top_free_throw = Arc((0, 142.5), 120, 120, theta1=0, theta2=180,\n",
    "                         linewidth=lw, color=color, fill=False)\n",
    "    # Create free throw bottom arc\n",
    "    bottom_free_throw = Arc((0, 142.5), 120, 120, theta1=180, theta2=0,\n",
    "                            linewidth=lw, color=color, linestyle='dashed')\n",
    "    # Restricted Zone, it is an arc with 4ft radius from center of the hoop\n",
    "    restricted = Arc((0, 0), 80, 80, theta1=0, theta2=180, linewidth=lw,\n",
    "                     color=color)\n",
    "\n",
    "    # Three point line\n",
    "    # Create the side 3pt lines, they are 14ft long before they begin to arc\n",
    "    corner_three_a = Rectangle((-220, -47.5), 0, 140, linewidth=lw,\n",
    "                               color=color)\n",
    "    corner_three_b = Rectangle((220, -47.5), 0, 140, linewidth=lw, color=color)\n",
    "    # 3pt arc - center of arc will be the hoop, arc is 23'9\" away from hoop\n",
    "    # I just played around with the theta values until they lined up with the \n",
    "    # threes\n",
    "    three_arc = Arc((0, 0), 475, 475, theta1=22, theta2=158, linewidth=lw,\n",
    "                    color=color)\n",
    "\n",
    "    # Center Court\n",
    "    center_outer_arc = Arc((0, 422.5), 120, 120, theta1=180, theta2=0,\n",
    "                           linewidth=lw, color=color)\n",
    "    center_inner_arc = Arc((0, 422.5), 40, 40, theta1=180, theta2=0,\n",
    "                           linewidth=lw, color=color)\n",
    "\n",
    "    # List of the court elements to be plotted onto the axes\n",
    "    court_elements = [hoop, backboard, outer_box, inner_box, top_free_throw,\n",
    "                      bottom_free_throw, restricted, corner_three_a,\n",
    "                      corner_three_b, three_arc, center_outer_arc,\n",
    "                      center_inner_arc]\n",
    "\n",
    "    if outer_lines:\n",
    "        # Draw the half court line, baseline and side out bound lines\n",
    "        outer_lines = Rectangle((-250, -47.5), 500, 470, linewidth=lw,\n",
    "                                color=color, fill=False)\n",
    "        court_elements.append(outer_lines)\n",
    "\n",
    "    # Add the court elements onto the axes\n",
    "    for element in court_elements:\n",
    "        ax.add_patch(element)\n",
    "\n",
    "    return ax"
   ]
  },
  {
   "cell_type": "code",
   "execution_count": 4,
   "metadata": {},
   "outputs": [
    {
     "name": "stdout",
     "output_type": "stream",
     "text": [
      "1610612748\n"
     ]
    }
   ],
   "source": [
    "from nba_api.stats.static import teams\n",
    "nba_teams = teams.get_teams()\n",
    "# Select the dictionary for the Heat, which contains their team ID\n",
    "heat = [team for team in nba_teams if team['abbreviation'] == 'MIA'][0]\n",
    "heat_id = heat['id']\n",
    "print(heat_id)"
   ]
  },
  {
   "cell_type": "code",
   "execution_count": 5,
   "metadata": {},
   "outputs": [],
   "source": [
    "from nba_api.stats.endpoints import leaguegamefinder\n",
    "#Query for games where the Heat were playing\n",
    "gamefinder = leaguegamefinder.LeagueGameFinder(team_id_nullable=heat_id, headers=headers)\n",
    "# The first DataFrame of those returned is what we want.\n",
    "heat_games = gamefinder.get_data_frames()[0]\n",
    "heat_games.head()\n",
    "heat_gameids = heat_games['GAME_ID'].values"
   ]
  },
  {
   "cell_type": "code",
   "execution_count": 6,
   "metadata": {},
   "outputs": [],
   "source": [
    "from nba_api.stats.endpoints import boxscoreadvancedv2\n",
    "\n",
    "bs = boxscoreadvancedv2.BoxScoreAdvancedV2(game_id='0021900126', headers=headers).get_json()\n",
    "boxscore = json.loads(bs)\n",
    "TEAM = 1\n",
    "PLAYER = 0\n",
    "player_stats = boxscore[\"resultSets\"][PLAYER][\"rowSet\"]\n",
    "stat_headers = boxscore[\"resultSets\"][PLAYER][\"headers\"]\n",
    "team_stats = boxscore[\"resultSets\"][TEAM][\"rowSet\"]\n",
    "teamStat_header = boxscore[\"resultSets\"][TEAM][\"headers\"]"
   ]
  },
  {
   "cell_type": "code",
   "execution_count": 7,
   "metadata": {},
   "outputs": [
    {
     "name": "stdout",
     "output_type": "stream",
     "text": [
      "{'ATL': 1610612737, 'BOS': 1610612738, 'CLE': 1610612739, 'NOP': 1610612740, 'CHI': 1610612741, 'DAL': 1610612742, 'DEN': 1610612743, 'GSW': 1610612744, 'HOU': 1610612745, 'LAC': 1610612746, 'LAL': 1610612747, 'MIA': 1610612748, 'MIL': 1610612749, 'MIN': 1610612750, 'BKN': 1610612751, 'NYK': 1610612752, 'ORL': 1610612753, 'IND': 1610612754, 'PHI': 1610612755, 'PHX': 1610612756, 'POR': 1610612757, 'SAC': 1610612758, 'SAS': 1610612759, 'OKC': 1610612760, 'TOR': 1610612761, 'UTA': 1610612762, 'MEM': 1610612763, 'WAS': 1610612764, 'DET': 1610612765, 'CHA': 1610612766}\n"
     ]
    }
   ],
   "source": [
    "## Build the team name to team_id map\n",
    "list_teams = ['ATL', 'BOS', 'CLE', 'NOP', 'CHI', 'DAL', 'DEN', 'GSW', 'HOU', 'LAC', 'LAL'\n",
    "        , 'MIA', 'MIL', 'MIN', 'BKN', 'NYK', 'ORL', 'IND', 'PHI', 'PHX', 'POR', 'SAC'\n",
    "        , 'SAS', 'OKC', 'TOR', 'UTA', 'MEM', 'WAS', 'DET', 'CHA']\n",
    "i = 0\n",
    "team_to_id = {}\n",
    "for t in list_teams:\n",
    "    team_to_id.update({t: nba_teams[i]['id']})\n",
    "    i += 1\n",
    "print(team_to_id)"
   ]
  },
  {
   "cell_type": "code",
   "execution_count": 8,
   "metadata": {},
   "outputs": [
    {
     "data": {
      "text/html": [
       "<div>\n",
       "<style scoped>\n",
       "    .dataframe tbody tr th:only-of-type {\n",
       "        vertical-align: middle;\n",
       "    }\n",
       "\n",
       "    .dataframe tbody tr th {\n",
       "        vertical-align: top;\n",
       "    }\n",
       "\n",
       "    .dataframe thead th {\n",
       "        text-align: right;\n",
       "    }\n",
       "</style>\n",
       "<table border=\"1\" class=\"dataframe\">\n",
       "  <thead>\n",
       "    <tr style=\"text-align: right;\">\n",
       "      <th></th>\n",
       "      <th>TEAM_ID</th>\n",
       "      <th>PTS</th>\n",
       "      <th>PTS_PERSON_ID</th>\n",
       "      <th>PTS_PLAYER</th>\n",
       "      <th>AST</th>\n",
       "      <th>AST_PERSON_ID</th>\n",
       "      <th>AST_PLAYER</th>\n",
       "      <th>REB</th>\n",
       "      <th>REB_PERSON_ID</th>\n",
       "      <th>REB_PLAYER</th>\n",
       "      <th>BLK</th>\n",
       "      <th>BLK_PERSON_ID</th>\n",
       "      <th>BLK_PLAYER</th>\n",
       "      <th>STL</th>\n",
       "      <th>STL_PERSON_ID</th>\n",
       "      <th>STL_PLAYER</th>\n",
       "    </tr>\n",
       "  </thead>\n",
       "  <tbody>\n",
       "    <tr>\n",
       "      <th>0</th>\n",
       "      <td>1610612748</td>\n",
       "      <td>21556</td>\n",
       "      <td>2548</td>\n",
       "      <td>Dwyane Wade</td>\n",
       "      <td>5310</td>\n",
       "      <td>2548</td>\n",
       "      <td>Dwyane Wade</td>\n",
       "      <td>5741</td>\n",
       "      <td>2617</td>\n",
       "      <td>Udonis Haslem</td>\n",
       "      <td>1625</td>\n",
       "      <td>297</td>\n",
       "      <td>Alonzo Mourning</td>\n",
       "      <td>1492</td>\n",
       "      <td>2548</td>\n",
       "      <td>Dwyane Wade</td>\n",
       "    </tr>\n",
       "  </tbody>\n",
       "</table>\n",
       "</div>"
      ],
      "text/plain": [
       "      TEAM_ID    PTS  PTS_PERSON_ID   PTS_PLAYER   AST  AST_PERSON_ID  \\\n",
       "0  1610612748  21556           2548  Dwyane Wade  5310           2548   \n",
       "\n",
       "    AST_PLAYER   REB  REB_PERSON_ID     REB_PLAYER   BLK  BLK_PERSON_ID  \\\n",
       "0  Dwyane Wade  5741           2617  Udonis Haslem  1625            297   \n",
       "\n",
       "        BLK_PLAYER   STL  STL_PERSON_ID   STL_PLAYER  \n",
       "0  Alonzo Mourning  1492           2548  Dwyane Wade  "
      ]
     },
     "execution_count": 8,
     "metadata": {},
     "output_type": "execute_result"
    }
   ],
   "source": [
    "# Franchise leaders\n",
    "from nba_api.stats.endpoints import franchiseleaders\n",
    "fl = franchiseleaders.FranchiseLeaders(team_id=team_to_id[\"MIA\"], headers=headers)\n",
    "leaders = fl.get_data_frames()[0]\n",
    "leaders.head()"
   ]
  },
  {
   "cell_type": "code",
   "execution_count": 9,
   "metadata": {},
   "outputs": [
    {
     "data": {
      "text/html": [
       "<div>\n",
       "<style scoped>\n",
       "    .dataframe tbody tr th:only-of-type {\n",
       "        vertical-align: middle;\n",
       "    }\n",
       "\n",
       "    .dataframe tbody tr th {\n",
       "        vertical-align: top;\n",
       "    }\n",
       "\n",
       "    .dataframe thead th {\n",
       "        text-align: right;\n",
       "    }\n",
       "</style>\n",
       "<table border=\"1\" class=\"dataframe\">\n",
       "  <thead>\n",
       "    <tr style=\"text-align: right;\">\n",
       "      <th></th>\n",
       "      <th>GRID_TYPE</th>\n",
       "      <th>GAME_ID</th>\n",
       "      <th>GAME_EVENT_ID</th>\n",
       "      <th>PLAYER_ID</th>\n",
       "      <th>PLAYER_NAME</th>\n",
       "      <th>TEAM_ID</th>\n",
       "      <th>TEAM_NAME</th>\n",
       "      <th>PERIOD</th>\n",
       "      <th>MINUTES_REMAINING</th>\n",
       "      <th>SECONDS_REMAINING</th>\n",
       "      <th>...</th>\n",
       "      <th>SHOT_ZONE_AREA</th>\n",
       "      <th>SHOT_ZONE_RANGE</th>\n",
       "      <th>SHOT_DISTANCE</th>\n",
       "      <th>LOC_X</th>\n",
       "      <th>LOC_Y</th>\n",
       "      <th>SHOT_ATTEMPTED_FLAG</th>\n",
       "      <th>SHOT_MADE_FLAG</th>\n",
       "      <th>GAME_DATE</th>\n",
       "      <th>HTM</th>\n",
       "      <th>VTM</th>\n",
       "    </tr>\n",
       "  </thead>\n",
       "  <tbody>\n",
       "    <tr>\n",
       "      <th>0</th>\n",
       "      <td>Shot Chart Detail</td>\n",
       "      <td>0020300001</td>\n",
       "      <td>16</td>\n",
       "      <td>2548</td>\n",
       "      <td>Dwyane Wade</td>\n",
       "      <td>1610612748</td>\n",
       "      <td>Miami Heat</td>\n",
       "      <td>1</td>\n",
       "      <td>10</td>\n",
       "      <td>6</td>\n",
       "      <td>...</td>\n",
       "      <td>Left Side(L)</td>\n",
       "      <td>8-16 ft.</td>\n",
       "      <td>8</td>\n",
       "      <td>-84</td>\n",
       "      <td>-21</td>\n",
       "      <td>1</td>\n",
       "      <td>1</td>\n",
       "      <td>20031028</td>\n",
       "      <td>PHI</td>\n",
       "      <td>MIA</td>\n",
       "    </tr>\n",
       "    <tr>\n",
       "      <th>1</th>\n",
       "      <td>Shot Chart Detail</td>\n",
       "      <td>0020300001</td>\n",
       "      <td>18</td>\n",
       "      <td>2548</td>\n",
       "      <td>Dwyane Wade</td>\n",
       "      <td>1610612748</td>\n",
       "      <td>Miami Heat</td>\n",
       "      <td>1</td>\n",
       "      <td>9</td>\n",
       "      <td>21</td>\n",
       "      <td>...</td>\n",
       "      <td>Center(C)</td>\n",
       "      <td>Less Than 8 ft.</td>\n",
       "      <td>3</td>\n",
       "      <td>-38</td>\n",
       "      <td>8</td>\n",
       "      <td>1</td>\n",
       "      <td>1</td>\n",
       "      <td>20031028</td>\n",
       "      <td>PHI</td>\n",
       "      <td>MIA</td>\n",
       "    </tr>\n",
       "    <tr>\n",
       "      <th>2</th>\n",
       "      <td>Shot Chart Detail</td>\n",
       "      <td>0020300001</td>\n",
       "      <td>54</td>\n",
       "      <td>2548</td>\n",
       "      <td>Dwyane Wade</td>\n",
       "      <td>1610612748</td>\n",
       "      <td>Miami Heat</td>\n",
       "      <td>1</td>\n",
       "      <td>4</td>\n",
       "      <td>58</td>\n",
       "      <td>...</td>\n",
       "      <td>Left Side(L)</td>\n",
       "      <td>8-16 ft.</td>\n",
       "      <td>8</td>\n",
       "      <td>-77</td>\n",
       "      <td>35</td>\n",
       "      <td>1</td>\n",
       "      <td>1</td>\n",
       "      <td>20031028</td>\n",
       "      <td>PHI</td>\n",
       "      <td>MIA</td>\n",
       "    </tr>\n",
       "    <tr>\n",
       "      <th>3</th>\n",
       "      <td>Shot Chart Detail</td>\n",
       "      <td>0020300001</td>\n",
       "      <td>66</td>\n",
       "      <td>2548</td>\n",
       "      <td>Dwyane Wade</td>\n",
       "      <td>1610612748</td>\n",
       "      <td>Miami Heat</td>\n",
       "      <td>1</td>\n",
       "      <td>4</td>\n",
       "      <td>2</td>\n",
       "      <td>...</td>\n",
       "      <td>Center(C)</td>\n",
       "      <td>Less Than 8 ft.</td>\n",
       "      <td>0</td>\n",
       "      <td>0</td>\n",
       "      <td>0</td>\n",
       "      <td>1</td>\n",
       "      <td>1</td>\n",
       "      <td>20031028</td>\n",
       "      <td>PHI</td>\n",
       "      <td>MIA</td>\n",
       "    </tr>\n",
       "    <tr>\n",
       "      <th>4</th>\n",
       "      <td>Shot Chart Detail</td>\n",
       "      <td>0020300001</td>\n",
       "      <td>228</td>\n",
       "      <td>2548</td>\n",
       "      <td>Dwyane Wade</td>\n",
       "      <td>1610612748</td>\n",
       "      <td>Miami Heat</td>\n",
       "      <td>2</td>\n",
       "      <td>0</td>\n",
       "      <td>41</td>\n",
       "      <td>...</td>\n",
       "      <td>Center(C)</td>\n",
       "      <td>Less Than 8 ft.</td>\n",
       "      <td>0</td>\n",
       "      <td>0</td>\n",
       "      <td>0</td>\n",
       "      <td>1</td>\n",
       "      <td>1</td>\n",
       "      <td>20031028</td>\n",
       "      <td>PHI</td>\n",
       "      <td>MIA</td>\n",
       "    </tr>\n",
       "  </tbody>\n",
       "</table>\n",
       "<p>5 rows × 24 columns</p>\n",
       "</div>"
      ],
      "text/plain": [
       "           GRID_TYPE     GAME_ID  GAME_EVENT_ID  PLAYER_ID  PLAYER_NAME  \\\n",
       "0  Shot Chart Detail  0020300001             16       2548  Dwyane Wade   \n",
       "1  Shot Chart Detail  0020300001             18       2548  Dwyane Wade   \n",
       "2  Shot Chart Detail  0020300001             54       2548  Dwyane Wade   \n",
       "3  Shot Chart Detail  0020300001             66       2548  Dwyane Wade   \n",
       "4  Shot Chart Detail  0020300001            228       2548  Dwyane Wade   \n",
       "\n",
       "      TEAM_ID   TEAM_NAME  PERIOD  MINUTES_REMAINING  SECONDS_REMAINING  ...  \\\n",
       "0  1610612748  Miami Heat       1                 10                  6  ...   \n",
       "1  1610612748  Miami Heat       1                  9                 21  ...   \n",
       "2  1610612748  Miami Heat       1                  4                 58  ...   \n",
       "3  1610612748  Miami Heat       1                  4                  2  ...   \n",
       "4  1610612748  Miami Heat       2                  0                 41  ...   \n",
       "\n",
       "  SHOT_ZONE_AREA  SHOT_ZONE_RANGE SHOT_DISTANCE LOC_X LOC_Y  \\\n",
       "0   Left Side(L)         8-16 ft.             8   -84   -21   \n",
       "1      Center(C)  Less Than 8 ft.             3   -38     8   \n",
       "2   Left Side(L)         8-16 ft.             8   -77    35   \n",
       "3      Center(C)  Less Than 8 ft.             0     0     0   \n",
       "4      Center(C)  Less Than 8 ft.             0     0     0   \n",
       "\n",
       "  SHOT_ATTEMPTED_FLAG  SHOT_MADE_FLAG  GAME_DATE  HTM  VTM  \n",
       "0                   1               1   20031028  PHI  MIA  \n",
       "1                   1               1   20031028  PHI  MIA  \n",
       "2                   1               1   20031028  PHI  MIA  \n",
       "3                   1               1   20031028  PHI  MIA  \n",
       "4                   1               1   20031028  PHI  MIA  \n",
       "\n",
       "[5 rows x 24 columns]"
      ]
     },
     "execution_count": 9,
     "metadata": {},
     "output_type": "execute_result"
    }
   ],
   "source": [
    "from nba_api.stats.endpoints import shotchartdetail\n",
    "## This is for Dwyane Wade\n",
    "sc = shotchartdetail.ShotChartDetail(team_id=team_to_id['MIA'], player_id=2548, headers=headers)\n",
    "shotchart_player = sc.get_data_frames()[0]\n",
    "shotchart_player.head()"
   ]
  },
  {
   "cell_type": "code",
   "execution_count": 10,
   "metadata": {},
   "outputs": [
    {
     "name": "stderr",
     "output_type": "stream",
     "text": [
      "/home/vishnu/.local/lib/python3.6/site-packages/matplotlib/cbook/deprecation.py:107: MatplotlibDeprecationWarning: Passing one of 'on', 'true', 'off', 'false' as a boolean is deprecated; use an actual boolean (True/False) instead.\n",
      "  warnings.warn(message, mplDeprecation, stacklevel=1)\n"
     ]
    },
    {
     "data": {
      "text/plain": [
       "Text(0.5,1.2,'Dwyane Wade FGA Career')"
      ]
     },
     "execution_count": 10,
     "metadata": {},
     "output_type": "execute_result"
    },
    {
     "data": {
      "image/png": "[encoded data removed]",
      "text/plain": [
       "<Figure size 864x792 with 3 Axes>"
      ]
     },
     "metadata": {
      "needs_background": "light"
     },
     "output_type": "display_data"
    }
   ],
   "source": [
    "joint_shot_chart = sns.jointplot(shotchart_player.LOC_X, shotchart_player.LOC_Y, stat_func=None,\n",
    "                                 kind='scatter', space=0, alpha=0.5)\n",
    "joint_shot_chart.fig.set_size_inches(12,11)\n",
    "# A joint plot has 3 Axes, the first one called ax_joint\n",
    "# is the one we want to draw our court onto and adjust some other settings\n",
    "ax = joint_shot_chart.ax_joint\n",
    "draw_court(ax)\n",
    "# Adjust the axis limits and orientation of the plot in order\n",
    "# to plot half court, with the hoop by the top of the plot\n",
    "ax.set_xlim(-250,250)\n",
    "ax.set_ylim(422.5, -47.5)\n",
    "# Get rid of axis labels and tick marks\n",
    "ax.set_xlabel('')\n",
    "ax.set_ylabel('')\n",
    "ax.tick_params(labelbottom='off', labelleft='off')\n",
    "# Add a title\n",
    "ax.set_title('Dwyane Wade FGA Career',\n",
    "             y=1.2, fontsize=18)"
   ]
  },
  {
   "cell_type": "markdown",
   "metadata": {},
   "source": [
    "Determine clusters of different types of players, hierarchical and interconnected. This is something you can put in DDB and have a queue select players at random to display or something of the sort :)"
   ]
  },
  {
   "cell_type": "code",
   "execution_count": 34,
   "metadata": {},
   "outputs": [],
   "source": [
    "nba2019_2020players = {}\n",
    "for team in list_teams:\n",
    "    fp = franchiseplayers.FranchisePlayers(team_id=team_to_id[team], headers=headers)\n",
    "    players = fp.get_data_frames()[0]\n",
    "    active_players = players.loc[players['ACTIVE_WITH_TEAM'] == 1]\n",
    "    ids_per_team = active_players['PERSON_ID'].values\n",
    "    player_names = active_players['PLAYER'].values\n",
    "    players_per_team = dict(zip(ids_per_team, player_names))\n",
    "    nba2019_2020players.update(players_per_team)"
   ]
  },
  {
   "cell_type": "code",
   "execution_count": 45,
   "metadata": {},
   "outputs": [
    {
     "name": "stdout",
     "output_type": "stream",
     "text": [
      "{1713: 'Vince Carter', 202323: 'Evan Turner', 202718: 'Chandler Parsons', 203458: 'Alex Len', 203459: 'Allen Crabbe', 203953: 'Jabari Parker', 1627745: 'Damian Jones', 1627761: \"DeAndre' Bembry\", 1628381: 'John Collins', 1628981: 'Bruno Fernando', 1628989: 'Kevin Huerter', 1629027: 'Trae Young', 1629164: 'Brandon Goodwin', 1629629: 'Cam Reddish', 1629631: \"De'Andre Hunter\", 1629718: 'Charles Brown Jr.', 202330: 'Gordon Hayward', 202683: 'Enes Kanter', 202689: 'Kemba Walker', 202954: 'Brad Wanamaker', 203935: 'Marcus Smart', 1627759: 'Jaylen Brown', 1628369: 'Jayson Tatum', 1628400: 'Semi Ojeleye', 1628464: 'Daniel Theis', 1629035: 'Carsen Edwards', 1629057: 'Robert Williams III', 1629605: 'Tacko Fall', 1629641: 'Romeo Langford', 1629682: 'Tremont Waters', 1629684: 'Grant Williams', 1629738: 'Vincent Poirier', 1629750: 'Javonte Green', 201567: 'Kevin Love', 202684: 'Tristan Thompson', 202688: 'Brandon Knight', 203089: 'John Henson', 203521: 'Matthew Dellavedova', 203903: 'Jordan Clarkson', 1626204: 'Larry Nance Jr.', 1626224: 'Cedi Osman', 1627790: 'Ante Zizic', 1628035: 'Alfonzo McKinnie', 1629012: 'Collin Sexton', 1629076: 'Tyler Cook', 1629636: 'Darius Garland', 1629645: 'Kevin Porter Jr.', 1629731: 'Dean Wade', 200755: 'JJ Redick', 201950: 'Jrue Holiday', 202324: 'Derrick Favors', 202734: \"E'Twaun Moore\", 203121: 'Darius Miller', 1626143: 'Jahlil Okafor', 1627742: 'Brandon Ingram', 1627982: 'Josh Gray', 1628366: 'Lonzo Ball', 1628402: 'Frank Jackson', 1628404: 'Josh Hart', 1629026: 'Kenrich Williams', 1629597: 'Zylan Cheatham', 1629637: 'Jaxson Hayes', 1629638: 'Nickeil Alexander-Walker', 1629740: 'Nicolo Melli', 201152: 'Thaddeus Young', 203107: 'Tomas Satoransky', 203490: 'Otto Porter Jr.', 203897: 'Zach LaVine', 1626245: 'Cristiano Felicio', 1627739: 'Kris Dunn', 1627756: 'Denzel Valentine', 1627853: 'Ryan Arcidiacono', 1627885: 'Shaquille Harrison', 1628374: 'Lauri Markkanen', 1628436: 'Luke Kornet', 1628976: 'Wendell Carter Jr.', 1628990: 'Chandler Hutchison', 1629622: 'Max Strus', 1629632: 'Coby White', 1629655: 'Daniel Gafford', 200826: 'J.J. Barea', 201584: 'Courtney Lee', 203501: 'Tim Hardaway Jr.', 203552: 'Seth Curry', 203939: 'Dwight Powell', 204001: 'Kristaps Porzingis', 1626153: 'Delon Wright', 1626246: 'Boban Marjanovic', 1627827: 'Dorian Finney-Smith', 1628382: 'Justin Jackson', 1628467: 'Maxi Kleber', 1628499: 'Antonius Cleveland', 1628973: 'Jalen Brunson', 1629029: 'Luka Doncic', 1629151: 'Ryan Broekhoff', 200794: 'Paul Millsap', 203115: 'Will Barton', 203486: 'Mason Plumlee', 203914: 'Gary Harris', 203924: 'Jerami Grant', 203999: 'Nikola Jokic', 1627736: 'Malik Beasley', 1627750: 'Jamal Murray', 1627823: 'Juancho Hernangomez', 1628420: 'Monte Morris', 1628427: 'Vlatko Cancar', 1628470: 'Torrey Craig', 1629008: 'Michael Porter Jr.', 1629020: 'Jarred Vanderbilt', 201939: 'Stephen Curry', 202691: 'Klay Thompson', 202692: 'Alec Burks', 203110: 'Draymond Green', 203922: 'Glenn Robinson III', 1626156: \"D'Angelo Russell\", 1626161: 'Willie Cauley-Stein', 1626172: 'Kevon Looney', 1627737: 'Marquese Chriss', 1627814: 'Damion Lee', 1628980: 'Jacob Evans', 1629016: 'Omari Spellman', 1629065: 'Ky Bowman', 1629672: 'Eric Paschall', 1629673: 'Jordan Poole', 2199: 'Tyson Chandler', 2403: 'Nene', 101123: 'Gerald Green', 200757: 'Thabo Sefolosha', 200782: 'P.J. Tucker', 201566: 'Russell Westbrook', 201569: 'Eric Gordon', 201935: 'James Harden', 203085: 'Austin Rivers', 203463: 'Ben McLemore', 203991: 'Clint Capela', 1627863: 'Danuel House Jr.', 1628392: 'Isaiah Hartenstein', 1629109: 'Gary Clark', 1629598: 'Chris Clemons', 101150: 'Lou Williams', 201976: 'Patrick Beverley', 202331: 'Paul George', 202335: 'Patrick Patterson', 202695: 'Kawhi Leonard', 203090: 'Maurice Harkless', 203210: 'JaMychal Green', 203585: 'Rodney McGruder', 1626149: 'Montrezl Harrell', 1627826: 'Ivica Zubac', 1628405: 'Johnathan Motley', 1628476: 'Derrick Walton Jr.', 1629010: 'Jerome Robinson', 1629013: 'Landry Shamet', 1629611: 'Terance Mann', 1629662: 'Mfiondu Kabengele', 2544: 'LeBron James', 2730: 'Dwight Howard', 200765: 'Rajon Rondo', 201162: 'Jared Dudley', 201580: 'JaVale McGee', 201980: 'Danny Green', 202340: 'Avery Bradley', 203076: 'Anthony Davis', 203484: 'Kentavious Caldwell-Pope', 203584: 'Troy Daniels', 1626188: 'Quinn Cook', 1627936: 'Alex Caruso', 1628398: 'Kyle Kuzma', 1628961: 'Kostas Antetokounmpo', 1629659: 'Talen Horton-Tucker', 2617: 'Udonis Haslem', 201609: 'Goran Dragic', 201949: 'James Johnson', 202710: 'Jimmy Butler', 203079: 'Dion Waiters', 203086: 'Meyers Leonard', 203482: 'Kelly Olynyk', 1626159: 'Justise Winslow', 1627884: 'Derrick Jones Jr.', 1628389: 'Bam Adebayo', 1629130: 'Duncan Robinson', 1629133: 'Daryl Macon', 1629134: 'Kendrick Nunn', 1629639: 'Tyler Herro', 1629644: 'KZ Okpala', 1629735: 'Chris Silva', 2594: 'Kyle Korver', 101141: 'Ersan Ilyasova', 201572: 'Brook Lopez', 201577: 'Robin Lopez', 201588: 'George Hill', 202083: 'Wesley Matthews', 202339: 'Eric Bledsoe', 203114: 'Khris Middleton', 203507: 'Giannis Antetokounmpo', 203648: 'Thanasis Antetokounmpo', 1626192: 'Pat Connaughton', 1627733: 'Dragan Bender', 1628391: 'D.J. Wilson', 1628412: 'Frank Mason', 1628425: 'Sterling Brown', 1628978: 'Donte DiVincenzo', 201952: 'Jeff Teague', 203476: 'Gorgui Dieng', 203496: 'Robert Covington', 203894: 'Shabazz Napier', 203943: 'Noah Vonleh', 203952: 'Andrew Wiggins', 1626157: 'Karl-Anthony Towns', 1626203: 'Treveon Graham', 1627774: 'Jake Layman', 1628395: 'Jordan Bell', 1628966: 'Keita Bates-Diop', 1629006: 'Josh Okogie', 1629103: 'Kelan Martin', 1629162: 'Jordan McLaughlin', 1629633: 'Jarrett Culver', 1629669: 'Jaylen Nowell', 1629675: 'Naz Reid', 201599: 'DeAndre Jordan', 202066: 'Garrett Temple', 202681: 'Kyrie Irving', 203915: 'Spencer Dinwiddie', 203925: 'Joe Harris', 1627740: 'Henry Ellenson', 1627747: 'Caris LeVert', 1627752: 'Taurean Prince', 1627789: 'Timothe Luwawu-Cabarrot', 1628021: 'David Nwaba', 1628386: 'Jarrett Allen', 1629033: 'Theo Pinson', 1629058: 'Dzanan Musa', 1629066: 'Rodions Kurucs', 1629651: 'Nicolas Claxton', 201959: 'Taj Gibson', 201961: 'Wayne Ellington', 202694: 'Marcus Morris Sr.', 203901: 'Elfrid Payton', 203944: 'Julius Randle', 1626171: 'Bobby Portis', 1628372: 'Dennis Smith Jr.', 1628373: 'Frank Ntilikina', 1628422: 'Damyean Dotson', 1628443: 'Kadeem Allen', 1628995: 'Kevin Knox II', 1629011: 'Mitchell Robinson', 1629019: 'Allonzo Trier', 1629628: 'RJ Barrett', 1629649: 'Ignas Brazdeikis', 201571: 'D.J. Augustin', 202329: 'Al-Farouq Aminu', 202696: 'Nikola Vucevic', 203082: 'Terrence Ross', 203095: 'Evan Fournier', 203487: 'Michael Carter-Williams', 203705: 'Josh Magette', 203920: 'Khem Birch', 203932: 'Aaron Gordon', 1628365: 'Markelle Fultz', 1628371: 'Jonathan Isaac', 1628411: 'Wes Iwundu', 1628518: 'Amile Jefferson', 1628964: 'Mo Bamba', 1628982: 'Melvin Frazier Jr.', 1629168: 'BJ Johnson', 203087: 'Jeremy Lamb', 203200: 'Justin Holiday', 203506: 'Victor Oladipo', 203926: 'Doug McDermott', 203933: 'T.J. Warren', 203960: 'JaKarr Sampson', 204456: 'T.J. McConnell', 1626167: 'Myles Turner', 1627734: 'Domantas Sabonis', 1627763: 'Malcolm Brogdon', 1628388: 'TJ Leaf', 1628410: 'Edmond Sumner', 1628513: 'Naz Mitrou-Long', 1628968: 'Brian Bowen II', 1628988: 'Aaron Holiday', 1628993: 'Alize Johnson', 1629048: 'Goga Bitadze', 201143: 'Al Horford', 202699: 'Tobias Harris', 203118: 'Mike Scott', 203124: \"Kyle O'Quinn\", 203504: 'Trey Burke', 203516: 'James Ennis III', 203526: 'Raul Neto', 203658: 'Norvel Pelle', 203954: 'Joel Embiid', 1626196: 'Josh Richardson', 1627732: 'Ben Simmons', 1627788: 'Furkan Korkmaz', 1628413: 'Jonah Bolden', 1629003: 'Shake Milton', 1629015: 'Zhaire Smith', 1629680: 'Matisse Thybulle', 201937: 'Ricky Rubio', 203382: 'Aron Baynes', 203967: 'Dario Saric', 204020: 'Tyler Johnson', 1626162: 'Kelly Oubre Jr.', 1626163: 'Frank Kaminsky', 1626164: 'Devin Booker', 1627767: 'Cheick Diallo', 1628969: 'Mikal Bridges', 1628975: 'Jevon Carter', 1629028: 'Deandre Ayton', 1629059: 'Elie Okobo', 1629607: 'Jared Harper', 1629660: 'Ty Jerome', 1629661: 'Cameron Johnson', 2546: 'Carmelo Anthony', 201229: 'Anthony Tolliver', 202355: 'Hassan Whiteside', 203081: 'Damian Lillard', 203145: 'Kent Bazemore', 203468: 'CJ McCollum', 203918: 'Rodney Hood', 203994: 'Jusuf Nurkic', 1626209: 'Mario Hezonja', 1627746: 'Skal Labissiere', 1628380: 'Zach Collins', 1629014: 'Anfernee Simons', 1629018: 'Gary Trent Jr.', 1629642: 'Nassir Little', 1629650: 'Moses Brown', 1629658: 'Jaylen Hoard', 2772: 'Trevor Ariza', 202357: 'Nemanja Bjelica', 202709: 'Cory Joseph', 203084: 'Harrison Barnes', 203473: 'Dewayne Dedmon', 203992: 'Bogdan Bogdanovic', 1626158: 'Richaun Holmes', 1627741: 'Buddy Hield', 1627812: 'Yogi Ferrell', 1628368: \"De'Aaron Fox\", 1628385: 'Harry Giles III', 1628403: 'Caleb Swanigan', 1628963: 'Marvin Bagley III', 1629117: 'Wenyen Gabriel', 1629610: 'DaQuan Jeffries', 1629713: 'Justin James', 200746: 'LaMarcus Aldridge', 200752: 'Rudy Gay', 201158: 'Marco Belinelli', 201942: 'DeMar DeRozan', 201960: 'DeMarre Carroll', 201988: 'Patty Mills', 1626168: 'Trey Lyles', 1627749: 'Dejounte Murray', 1627751: 'Jakob Poeltl', 1627854: 'Bryn Forbes', 1628401: 'Derrick White', 1629002: 'Chimezie Metu', 1629022: 'Lonnie Walker IV', 1629234: 'Drew Eubanks', 1629640: 'Keldon Johnson', 101108: 'Chris Paul', 201568: 'Danilo Gallinari', 203457: 'Nerlens Noel', 203460: 'Andre Roberson', 203471: 'Dennis Schroder', 203488: 'Mike Muscala', 203500: 'Steven Adams', 1627846: 'Abdel Nader', 1628383: 'Justin Patton', 1628390: 'Terrance Ferguson', 1628977: 'Hamidou Diallo', 1628983: 'Shai Gilgeous-Alexander', 1629126: 'Deonte Burton', 1629647: 'Darius Bazley', 1629652: 'Luguentz Dort', 200768: 'Kyle Lowry', 201188: 'Marc Gasol', 201586: 'Serge Ibaka', 1626169: 'Stanley Johnson', 1626178: 'Rondae Hollis-Jefferson', 1626181: 'Norman Powell', 1626259: 'Malcolm Miller', 1627775: 'Patrick McCaw', 1627783: 'Pascal Siakam', 1627832: 'Fred VanVleet', 1628384: 'OG Anunoby', 1628449: 'Chris Boucher', 1629044: 'Shamorie Ponds', 1629052: 'Oshae Brissett', 1629056: 'Terence Davis', 1629608: 'Dewan Hernandez', 1629744: 'Matt Thomas', 201144: 'Mike Conley', 201145: 'Jeff Green', 202334: 'Ed Davis', 202711: 'Bojan Bogdanovic', 203497: 'Rudy Gobert', 203957: 'Dante Exum', 204060: 'Joe Ingles', 1626144: 'Emmanuel Mudiay', 1626220: \"Royce O'Neale\", 1627777: 'Georges Niang', 1628378: 'Donovan Mitchell', 1628396: 'Tony Bradley', 1628430: 'Nigel Williams-Goss', 1629671: 'Miye Oni', 1629714: 'Jarrell Brantley', 1629752: 'Juwan Morgan', 202685: 'Jonas Valanciunas', 203109: 'Jae Crowder', 203524: 'Solomon Hill', 203937: 'Kyle Anderson', 203998: 'Bruno Caboclo', 1626145: 'Tyus Jones', 1628415: 'Dillon Brooks', 1628960: 'Grayson Allen', 1628991: 'Jaren Jackson Jr.', 1629001: \"De'Anthony Melton\", 1629139: 'Yuta Watanabe', 1629630: 'Ja Morant', 1629634: 'Brandon Clarke', 1629723: 'John Konchar', 1629741: 'Marko Guduric', 101133: 'Ian Mahinmi', 101139: 'CJ Miles', 202322: 'John Wall', 202397: 'Ish Smith', 202722: 'Davis Bertans', 202738: 'Isaiah Thomas', 203078: 'Bradley Beal', 203895: 'Jordan McRae', 1628418: 'Thomas Bryant', 1628972: 'Troy Brown Jr.', 1629021: 'Moritz Wagner', 1629060: 'Rui Hachimura', 1629067: 'Isaac Bonga', 1629185: 'Chris Chiozza', 1629620: 'Justin Robinson', 1629678: 'Admiral Schofield', 1629726: 'Garrison Mathews', 201565: 'Derrick Rose', 201933: 'Blake Griffin', 202693: 'Markieff Morris', 202704: 'Reggie Jackson', 203083: 'Andre Drummond', 203503: 'Tony Snell', 204025: 'Tim Frazier', 204038: 'Langston Galloway', 1626174: 'Christian Wood', 1627748: 'Thon Maker', 1628379: 'Luke Kennard', 1628971: 'Bruce Brown', 1629004: 'Svi Mykhailiuk', 1629017: 'Khyri Thomas', 1629635: 'Sekou Doumbouya', 1629648: 'Jordan Bone', 101107: 'Marvin Williams', 201587: 'Nicolas Batum', 202687: 'Bismack Biyombo', 203077: 'Michael Kidd-Gilchrist', 203469: 'Cody Zeller', 1626179: 'Terry Rozier', 1626195: 'Willy Hernangomez', 1628370: 'Malik Monk', 1628407: 'Dwayne Bacon', 1628970: 'Miles Bridges', 1628984: \"Devonte' Graham\", 1628997: 'Caleb Martin', 1628998: 'Cody Martin', 1629023: 'P.J. Washington', 1629667: 'Jalen McDaniels'}\n"
     ]
    }
   ],
   "source": [
    "print(nba2019_2020players)"
   ]
  },
  {
   "cell_type": "raw",
   "metadata": {},
   "source": [
    "Theory of getting clusters for NBA players.\n",
    "- What are all the stats should I look at? Why?\n",
    "All the counting stats. These are a representation of an individual players output especially in their individual role as part of the team they are on. Use the following: \n",
    "\n",
    "(PTS, AST, FG%, STL, BLK, 3FG%, REB, TOV, 3PM, 3PA) \n",
    "- What stats are for what type of player?\n",
    "\n",
    "{\n",
    " 3&D players: [3FG% > 38%, (STL+BLK) > (1.5 + 0.5)],\n",
    " Facilitators: [AST > 7.5, PTS < 18, FG% > 45],\n",
    " Knock-down/Spot up shooter: [FG% > 50, 3FG% > 40, 3PA > 7], \n",
    " Defender: [REB > 5, STL > 1.5, BLK > 0.7], \n",
    " Athletic: [REB > 7, PTS > 20, STL > 1.0, BLK > 1.0], \n",
    " Elite 2-way: [PTS > 25, REB > 6, FG% > 52, AST > 5, STL > 1.0, BLK > 0.8], \n",
    " Iso: [PTS > 20, AST < 5 FG% > 40]\n",
    " OTHER: (Role players)\n",
    "}\n",
    "- The above conditions are very restrictive gotta come up with something else\n",
    "3-D players are: \n",
    "[(203121, 'Darius Miller'), (1626245, 'Cristiano Felicio'), (1628499, 'Antonius Cleveland'), (202691, 'Klay Thompson'), (2403, 'Nene'), (101123, 'Gerald Green'), (203079, 'Dion Waiters'), (203506, 'Victor Oladipo'), (1629015, 'Zhaire Smith'), (203994, 'Jusuf Nurkic'), (203460, 'Andre Roberson'), (202322, 'John Wall')]\n",
    "Facilitators are: \n",
    "[(1627732, 'Ben Simmons')]\n",
    "Spot up shooters are: \n",
    "[(1626157, 'Karl-Anthony Towns')]\n",
    "Defenders are: \n",
    "[(201950, 'Jrue Holiday'), (203083, 'Andre Drummond')]\n",
    "Athletic players are: \n",
    "[(203076, 'Anthony Davis'), (203507, 'Giannis Antetokounmpo')]\n",
    "elite 2 way players are: \n",
    "[]\n",
    "iso players are: \n",
    "[(1628369, 'Jayson Tatum'), (1627742, 'Brandon Ingram'), (203897, 'Zach LaVine'), (202331, 'Paul George'), (203952, 'Andrew Wiggins'), (203095, 'Evan Fournier'), (203954, 'Joel Embiid'), (203468, 'CJ McCollum'), (1627741, 'Buddy Hield'), (201942, 'DeMar DeRozan'), (1627783, 'Pascal Siakam'), (202711, 'Bojan Bogdanovic'), (1628378, 'Donovan Mitchell')]"
   ]
  },
  {
   "cell_type": "code",
   "execution_count": 30,
   "metadata": {},
   "outputs": [
    {
     "name": "stdout",
     "output_type": "stream",
     "text": [
      "['SEASON_ID', 'Player_ID', 'Game_ID', 'GAME_DATE', 'MATCHUP', 'WL', 'MIN', 'FGM', 'FGA', 'FG_PCT', 'FG3M', 'FG3A', 'FG3_PCT', 'FTM', 'FTA', 'FT_PCT', 'OREB', 'DREB', 'REB', 'AST', 'STL', 'BLK', 'TOV', 'PF', 'PTS', 'PLUS_MINUS', 'VIDEO_AVAILABLE']\n"
     ]
    }
   ],
   "source": [
    "print(attributes)"
   ]
  },
  {
   "cell_type": "code",
   "execution_count": 36,
   "metadata": {},
   "outputs": [
    {
     "name": "stdout",
     "output_type": "stream",
     "text": [
      "0.4293809523809524\n",
      "True\n"
     ]
    }
   ],
   "source": [
    "print(sum(gamelog.FG3_PCT.values)/len(gamelog.FG3_PCT.values))\n",
    "print(np.mean(gamelog.FG3_PCT.values) > 0.3)"
   ]
  },
  {
   "cell_type": "code",
   "execution_count": 19,
   "metadata": {},
   "outputs": [],
   "source": [
    "## Determine_condition or ret true if you cant\n",
    "def dc(values, sign, threshold): \n",
    "    if len(values) > 0:\n",
    "        if sign == 'l':\n",
    "            return np.mean(values) < threshold\n",
    "        elif sign == \"g\":\n",
    "            return np.mean(values) > threshold\n",
    "    else:\n",
    "        return True\n",
    "\n",
    "def classify_players(players):\n",
    "    three_and_d_players = []\n",
    "    facilitators = []\n",
    "    spot_up_shooters = []\n",
    "    defenders = []\n",
    "    athletic = []\n",
    "    elite_two_way = []\n",
    "    iso = []\n",
    "    other = []\n",
    "    for player in players:\n",
    "        pgl = playergamelog.PlayerGameLog(player_id=player, headers=headers)\n",
    "        gamelog = pgl.get_data_frames()[0]\n",
    "        if dc(gamelog.FG3_PCT.values, 'g', 0.38) and dc(gamelog.STL.values, 'g', 1.5) and dc(gamelog.BLK.values, 'g', 0.5):\n",
    "            three_and_d_players.append((player, players[player]))\n",
    "        elif dc(gamelog.AST.values, 'g', 7.0) and dc(gamelog.PTS.values, 'l', 18) and dc(gamelog.FG_PCT.values, 'g', 0.45):\n",
    "            facilitators.append((player, players[player]))\n",
    "        elif dc(gamelog.FG_PCT.values, 'g', 0.5) and dc(gamelog.FG3_PCT.values, 'g', 0.4) and dc(gamelog.FG3A.values, 'g', 7):\n",
    "            spot_up_shooters.append((player, players[player]))\n",
    "        elif dc(gamelog.REB.values, 'g', 5) and dc(gamelog.STL.values, 'g', 1.5) and dc(gamelog.BLK.values, 'g', 0.7):\n",
    "            defenders.append((player, players[player]))\n",
    "        elif dc(gamelog.REB.values, 'g', 7) and dc(gamelog.PTS.values, 'g', 20) and dc(gamelog.STL.values, 'g', 1) and dc(gamelog.BLK.values, 'g', 1):\n",
    "            athletic.append((player, players[player]))\n",
    "        elif dc(gamelog.PTS.values, 'g', 25) and dc(gamelog.REB.values, 'g', 6) and dc(gamelog.FG_PCT.values, 'g', 0.52) and dc(gamelog.AST.values, 'g', 5) and dc(gamelog.STL.values, 'g', 1) and dc(gamelog.BLK.values, 'g', 0.8):\n",
    "            elite_two_way.append((player, players[player]))\n",
    "        elif dc(gamelog.PTS.values, 'g', 20) and dc(gamelog.AST.values, 'l', 5) and dc(gamelog.FG_PCT.values, 'g', 0.4):\n",
    "            iso.append((player, players[player]))\n",
    "        else:\n",
    "            other.append((player, players[player]))\n",
    "\n",
    "    print(\"3-D players are: \")\n",
    "    print(three_and_d_players)\n",
    "    print(\"Facilitators are: \")\n",
    "    print(facilitators)\n",
    "    print(\"Spot up shooters are: \")\n",
    "    print(spot_up_shooters)\n",
    "    print(\"Defenders are: \")\n",
    "    print(defenders)\n",
    "    print(\"Athletic players are: \")\n",
    "    print(athletic)\n",
    "    print(\"elite 2 way players are: \")\n",
    "    print(elite_two_way)\n",
    "    print(\"iso players are: \")\n",
    "    print(iso)\n",
    "    #print(\"other 'role' players are: \")\n",
    "    #print(other)\n",
    "    return (three_and_d_players, facilitators, spot_up_shooters, defenders, athletic, elite_two_way, iso, other)"
   ]
  },
  {
   "cell_type": "code",
   "execution_count": 53,
   "metadata": {},
   "outputs": [
    {
     "name": "stdout",
     "output_type": "stream",
     "text": [
      "3-D players are: \n",
      "[(203121, 'Darius Miller'), (1626245, 'Cristiano Felicio'), (1628499, 'Antonius Cleveland'), (202691, 'Klay Thompson'), (2403, 'Nene'), (101123, 'Gerald Green'), (203079, 'Dion Waiters'), (203506, 'Victor Oladipo'), (1629015, 'Zhaire Smith'), (203994, 'Jusuf Nurkic'), (203460, 'Andre Roberson'), (202322, 'John Wall')]\n",
      "Facilitators are: \n",
      "[(1627732, 'Ben Simmons')]\n",
      "Spot up shooters are: \n",
      "[(1626157, 'Karl-Anthony Towns')]\n",
      "Defenders are: \n",
      "[(201950, 'Jrue Holiday'), (203083, 'Andre Drummond')]\n",
      "Athletic players are: \n",
      "[(203076, 'Anthony Davis'), (203507, 'Giannis Antetokounmpo')]\n",
      "elite 2 way players are: \n",
      "[]\n",
      "iso players are: \n",
      "[(1628369, 'Jayson Tatum'), (1627742, 'Brandon Ingram'), (203897, 'Zach LaVine'), (202331, 'Paul George'), (203952, 'Andrew Wiggins'), (203095, 'Evan Fournier'), (203954, 'Joel Embiid'), (203468, 'CJ McCollum'), (1627741, 'Buddy Hield'), (201942, 'DeMar DeRozan'), (1627783, 'Pascal Siakam'), (202711, 'Bojan Bogdanovic'), (1628378, 'Donovan Mitchell')]\n"
     ]
    }
   ],
   "source": [
    "d3, fac, spot, defenders, athletic, e2way, iso, role = classify_players(nba2019_2020players)"
   ]
  },
  {
   "cell_type": "raw",
   "metadata": {},
   "source": [
    "Start clustering players using Kmeans 7 clusters based on data from players' counting stats!"
   ]
  },
  {
   "cell_type": "code",
   "execution_count": 52,
   "metadata": {},
   "outputs": [],
   "source": [
    "def build_player_counting_stats(players):\n",
    "    total_stats = []\n",
    "    i = 1\n",
    "    for player in players:\n",
    "        pgl = playergamelog.PlayerGameLog(player_id=player, headers=headers)\n",
    "        gamelog = pgl.get_data_frames()[0]\n",
    "        if len(gamelog.PTS.values) > 0 and len(gamelog.AST.values) > 0 and len(gamelog.REB.values) > 0 and len(gamelog.STL.values) > 0 and len(gamelog.BLK.values) > 0 and len(gamelog.FG_PCT.values) > 0 and len(gamelog.FG3_PCT.values) > 0 and len(gamelog.FT_PCT.values) > 0:\n",
    "            total_stats.append([np.round(np.mean(gamelog.PTS.values),2), np.round(np.mean(gamelog.AST.values),2),\n",
    "                                np.round(np.mean(gamelog.REB.values),2), np.round(np.mean(gamelog.FG_PCT.values),2),\n",
    "                                np.round(np.mean(gamelog.STL.values),2), np.round(np.mean(gamelog.FG3_PCT.values),2),\n",
    "                                np.round(np.mean(gamelog.BLK.values),2), np.round(np.mean(gamelog.FT_PCT.values),2)])\n",
    "        else:\n",
    "            total_stats.append([0,0,0,0,0,0,0,0])\n",
    "        if i % 15 == 0:\n",
    "            print(\"Done with team \"+ str(int(i/15)))\n",
    "        i += 1\n",
    "    return total_stats"
   ]
  },
  {
   "cell_type": "code",
   "execution_count": 53,
   "metadata": {},
   "outputs": [],
   "source": [
    "def build_table_for_clusters(players, labels):\n",
    "    data = []\n",
    "    i = 0\n",
    "    for player in players:\n",
    "        data.append([players[player], labels[i]])\n",
    "        i += 1\n",
    "    return pd.DataFrame(data, columns=['Player Name', 'Label'])"
   ]
  },
  {
   "cell_type": "code",
   "execution_count": 54,
   "metadata": {},
   "outputs": [
    {
     "name": "stdout",
     "output_type": "stream",
     "text": [
      "Done with team 1\n",
      "Done with team 2\n",
      "Done with team 3\n",
      "Done with team 4\n",
      "Done with team 5\n",
      "Done with team 6\n",
      "Done with team 7\n",
      "Done with team 8\n",
      "Done with team 9\n",
      "Done with team 10\n",
      "Done with team 11\n",
      "Done with team 12\n",
      "Done with team 13\n",
      "Done with team 14\n",
      "Done with team 15\n",
      "Done with team 16\n",
      "Done with team 17\n",
      "Done with team 18\n",
      "Done with team 19\n",
      "Done with team 20\n",
      "Done with team 21\n",
      "Done with team 22\n",
      "Done with team 23\n",
      "Done with team 24\n",
      "Done with team 25\n",
      "Done with team 26\n",
      "Done with team 27\n",
      "Done with team 28\n",
      "Done with team 29\n",
      "Done with team 30\n",
      "Done with team 31\n"
     ]
    }
   ],
   "source": [
    "from sklearn.cluster import KMeans\n",
    "import numpy as np\n",
    "X = build_player_counting_stats(nba2019_2020players)"
   ]
  },
  {
   "cell_type": "code",
   "execution_count": 81,
   "metadata": {},
   "outputs": [
    {
     "name": "stdout",
     "output_type": "stream",
     "text": [
      "(471, 2)\n"
     ]
    }
   ],
   "source": [
    "kmeans = KMeans(n_clusters=15, random_state=0).fit(X)\n",
    "table = build_table_for_clusters(nba2019_2020players, kmeans.labels_)\n",
    "print(table.shape)\n",
    "## Also print out the clusters that are smallest in size."
   ]
  },
  {
   "cell_type": "code",
   "execution_count": 89,
   "metadata": {},
   "outputs": [
    {
     "name": "stdout",
     "output_type": "stream",
     "text": [
      "(63, 2)\n",
      "                 Player Name  Label\n",
      "2           Chandler Parsons      0\n",
      "23              Semi Ojeleye      0\n",
      "30            Grant Williams      0\n",
      "31           Vincent Poirier      0\n",
      "32             Javonte Green      0\n",
      "37       Matthew Dellavedova      0\n",
      "42          Alfonzo McKinnie      0\n",
      "44                Tyler Cook      0\n",
      "72        Shaquille Harrison      0\n",
      "74               Luke Kornet      0\n",
      "77                 Max Strus      0\n",
      "94            Ryan Broekhoff      0\n",
      "106             Torrey Craig      0\n",
      "116             Kevon Looney      0\n",
      "124           Tyson Chandler      0\n",
      "127          Thabo Sefolosha      0\n",
      "136       Isaiah Hartenstein      0\n",
      "150       Derrick Walton Jr.      0\n",
      "151          Jerome Robinson      0\n",
      "153             Terance Mann      0\n",
      "154        Mfiondu Kabengele      0\n",
      "158             Jared Dudley      0\n",
      "170            Udonis Haslem      0\n",
      "172            James Johnson      0\n",
      "195   Thanasis Antetokounmpo      0\n",
      "215        Jordan McLaughlin      0\n",
      "227  Timothe Luwawu-Cabarrot      0\n",
      "232           Rodions Kurucs      0\n",
      "233          Nicolas Claxton      0\n",
      "248         Ignas Brazdeikis      0\n",
      "..                       ...    ...\n",
      "281             Goga Bitadze      0\n",
      "311                Ty Jerome      0\n",
      "314         Anthony Tolliver      0\n",
      "325           Gary Trent Jr.      0\n",
      "327              Moses Brown      0\n",
      "328             Jaylen Hoard      0\n",
      "339          Harry Giles III      0\n",
      "342           Wenyen Gabriel      0\n",
      "344             Justin James      0\n",
      "349          DeMarre Carroll      0\n",
      "356            Chimezie Metu      0\n",
      "358             Drew Eubanks      0\n",
      "365             Mike Muscala      0\n",
      "372            Deonte Burton      0\n",
      "374            Luguentz Dort      0\n",
      "382            Patrick McCaw      0\n",
      "390          Dewan Hernandez      0\n",
      "394                 Ed Davis      0\n",
      "397               Dante Exum      0\n",
      "412            Bruno Caboclo      0\n",
      "418            Yuta Watanabe      0\n",
      "435              Isaac Bonga      0\n",
      "436            Chris Chiozza      0\n",
      "438        Admiral Schofield      0\n",
      "446              Tim Frazier      0\n",
      "449               Thon Maker      0\n",
      "462        Willy Hernangomez      0\n",
      "467             Caleb Martin      0\n",
      "468              Cody Martin      0\n",
      "470          Jalen McDaniels      0\n",
      "\n",
      "[63 rows x 2 columns]\n"
     ]
    }
   ],
   "source": [
    "print(table.loc[table['Label'] == 0].shape)\n",
    "print(table.loc[table['Label'] == 0])"
   ]
  },
  {
   "cell_type": "code",
   "execution_count": 83,
   "metadata": {},
   "outputs": [
    {
     "name": "stdout",
     "output_type": "stream",
     "text": [
      "(19, 2)\n",
      "                 Player Name  Label\n",
      "5              Jabari Parker      1\n",
      "8               John Collins      1\n",
      "16            Gordon Hayward      1\n",
      "21              Jaylen Brown      1\n",
      "22              Jayson Tatum      1\n",
      "85        Kristaps Porzingis      1\n",
      "147         Montrezl Harrell      1\n",
      "193          Khris Middleton      1\n",
      "236        Marcus Morris Sr.      1\n",
      "238            Julius Randle      1\n",
      "269              T.J. Warren      1\n",
      "283            Tobias Harris      1\n",
      "302          Kelly Oubre Jr.      1\n",
      "313          Carmelo Anthony      1\n",
      "345        LaMarcus Aldridge      1\n",
      "361         Danilo Gallinari      1\n",
      "371  Shai Gilgeous-Alexander      1\n",
      "395         Bojan Bogdanovic      1\n",
      "416        Jaren Jackson Jr.      1\n"
     ]
    }
   ],
   "source": [
    "print(table.loc[table['Label'] == 1].shape)\n",
    "print(table.loc[table['Label'] == 1])"
   ]
  },
  {
   "cell_type": "code",
   "execution_count": 90,
   "metadata": {},
   "outputs": [
    {
     "name": "stdout",
     "output_type": "stream",
     "text": [
      "(41, 2)\n",
      "            Player Name  Label\n",
      "14      De'Andre Hunter      2\n",
      "20         Marcus Smart      2\n",
      "40           Cedi Osman      2\n",
      "45       Darius Garland      2\n",
      "51        E'Twaun Moore      2\n",
      "56           Lonzo Ball      2\n",
      "65     Tomas Satoransky      2\n",
      "66      Otto Porter Jr.      2\n",
      "78           Coby White      2\n",
      "80           J.J. Barea      2\n",
      "82     Tim Hardaway Jr.      2\n",
      "83           Seth Curry      2\n",
      "98          Gary Harris      2\n",
      "99         Jerami Grant      2\n",
      "113  Glenn Robinson III      2\n",
      "118          Damion Lee      2\n",
      "130         Eric Gordon      2\n",
      "133        Ben McLemore      2\n",
      "135    Danuel House Jr.      2\n",
      "152       Landry Shamet      2\n",
      "161       Avery Bradley      2\n",
      "167          Kyle Kuzma      2\n",
      "180     Duncan Robinson      2\n",
      "190         George Hill      2\n",
      "210         Jake Layman      2\n",
      "220      Garrett Temple      2\n",
      "249       D.J. Augustin      2\n",
      "252       Terrence Ross      2\n",
      "258      Markelle Fultz      2\n",
      "268      Doug McDermott      2\n",
      "279       Aaron Holiday      2\n",
      "312     Cameron Johnson      2\n",
      "319         Rodney Hood      2\n",
      "324     Anfernee Simons      2\n",
      "350         Patty Mills      2\n",
      "354         Bryn Forbes      2\n",
      "355       Derrick White      2\n",
      "426           Ish Smith      2\n",
      "428       Isaiah Thomas      2\n",
      "442     Markieff Morris      2\n",
      "447   Langston Galloway      2\n"
     ]
    }
   ],
   "source": [
    "print(table.loc[table['Label'] == 2].shape)\n",
    "print(table.loc[table['Label'] == 2])"
   ]
  },
  {
   "cell_type": "code",
   "execution_count": 91,
   "metadata": {},
   "outputs": [
    {
     "name": "stdout",
     "output_type": "stream",
     "text": [
      "(7, 2)\n",
      "        Player Name  Label\n",
      "11       Trae Young      3\n",
      "93      Luka Doncic      3\n",
      "131    James Harden      3\n",
      "155    LeBron James      3\n",
      "221    Kyrie Irving      3\n",
      "316  Damian Lillard      3\n",
      "429    Bradley Beal      3\n"
     ]
    }
   ],
   "source": [
    "print(table.loc[table['Label'] == 3].shape)\n",
    "print(table.loc[table['Label'] == 3])"
   ]
  },
  {
   "cell_type": "code",
   "execution_count": 92,
   "metadata": {},
   "outputs": [
    {
     "name": "stdout",
     "output_type": "stream",
     "text": [
      "(35, 2)\n",
      "                 Player Name  Label\n",
      "26       Robert Williams III      4\n",
      "59          Kenrich Williams      4\n",
      "142        Patrick Patterson      4\n",
      "144         Maurice Harkless      4\n",
      "175           Meyers Leonard      4\n",
      "185              Chris Silva      4\n",
      "196          Pat Connaughton      4\n",
      "200           Sterling Brown      4\n",
      "203             Gorgui Dieng      4\n",
      "206              Noah Vonleh      4\n",
      "209           Treveon Graham      4\n",
      "211              Jordan Bell      4\n",
      "234               Taj Gibson      4\n",
      "250          Al-Farouq Aminu      4\n",
      "254  Michael Carter-Williams      4\n",
      "256               Khem Birch      4\n",
      "262                 Mo Bamba      4\n",
      "275                  TJ Leaf      4\n",
      "284               Mike Scott      4\n",
      "285             Kyle O'Quinn      4\n",
      "289             Norvel Pelle      4\n",
      "321            Mario Hezonja      4\n",
      "322          Skal Labissiere      4\n",
      "326            Nassir Little      4\n",
      "329             Trevor Ariza      4\n",
      "333           Dewayne Dedmon      4\n",
      "351               Trey Lyles      4\n",
      "353             Jakob Poeltl      4\n",
      "373            Darius Bazley      4\n",
      "386            Chris Boucher      4\n",
      "400            Royce O'Neale      4\n",
      "403             Tony Bradley      4\n",
      "411            Kyle Anderson      4\n",
      "457            Nicolas Batum      4\n",
      "459   Michael Kidd-Gilchrist      4\n"
     ]
    }
   ],
   "source": [
    "print(table.loc[table['Label'] == 4].shape)\n",
    "print(table.loc[table['Label'] == 4])"
   ]
  },
  {
   "cell_type": "code",
   "execution_count": 87,
   "metadata": {},
   "outputs": [
    {
     "name": "stdout",
     "output_type": "stream",
     "text": [
      "(31, 2)\n",
      "           Player Name  Label\n",
      "38     Jordan Clarkson      5\n",
      "43       Collin Sexton      5\n",
      "48           JJ Redick      5\n",
      "96         Will Barton      5\n",
      "102       Jamal Murray      5\n",
      "111         Alec Burks      5\n",
      "122      Eric Paschall      5\n",
      "171       Goran Dragic      5\n",
      "182      Kendrick Nunn      5\n",
      "183        Tyler Herro      5\n",
      "192       Eric Bledsoe      5\n",
      "202        Jeff Teague      5\n",
      "223         Joe Harris      5\n",
      "225       Caris LeVert      5\n",
      "247         RJ Barrett      5\n",
      "265        Jeremy Lamb      5\n",
      "291    Josh Richardson      5\n",
      "292        Ben Simmons      5\n",
      "298        Ricky Rubio      5\n",
      "332    Harrison Barnes      5\n",
      "334  Bogdan Bogdanovic      5\n",
      "360         Chris Paul      5\n",
      "364    Dennis Schroder      5\n",
      "380      Norman Powell      5\n",
      "392        Mike Conley      5\n",
      "414      Dillon Brooks      5\n",
      "427      Davis Bertans      5\n",
      "440       Derrick Rose      5\n",
      "441      Blake Griffin      5\n",
      "450       Luke Kennard      5\n",
      "461       Terry Rozier      5\n"
     ]
    }
   ],
   "source": [
    "print(table.loc[table['Label'] == 5].shape)\n",
    "print(table.loc[table['Label'] == 5])"
   ]
  },
  {
   "cell_type": "code",
   "execution_count": 93,
   "metadata": {},
   "outputs": [
    {
     "name": "stdout",
     "output_type": "stream",
     "text": [
      "(32, 2)\n",
      "            Player Name  Label\n",
      "34     Tristan Thompson      6\n",
      "58            Josh Hart      6\n",
      "73      Lauri Markkanen      6\n",
      "75   Wendell Carter Jr.      6\n",
      "95         Paul Millsap      6\n",
      "177     Justise Winslow      6\n",
      "204    Robert Covington      6\n",
      "226      Taurean Prince      6\n",
      "229       Jarrett Allen      6\n",
      "257        Aaron Gordon      6\n",
      "259      Jonathan Isaac      6\n",
      "272        Myles Turner      6\n",
      "282          Al Horford      6\n",
      "299         Aron Baynes      6\n",
      "300         Dario Saric      6\n",
      "303      Frank Kaminsky      6\n",
      "330     Nemanja Bjelica      6\n",
      "335      Richaun Holmes      6\n",
      "341   Marvin Bagley III      6\n",
      "346            Rudy Gay      6\n",
      "366        Steven Adams      6\n",
      "377         Serge Ibaka      6\n",
      "385          OG Anunoby      6\n",
      "408   Jonas Valanciunas      6\n",
      "409         Jae Crowder      6\n",
      "420      Brandon Clarke      6\n",
      "431       Thomas Bryant      6\n",
      "433       Moritz Wagner      6\n",
      "434       Rui Hachimura      6\n",
      "460         Cody Zeller      6\n",
      "465       Miles Bridges      6\n",
      "469     P.J. Washington      6\n"
     ]
    }
   ],
   "source": [
    "print(table.loc[table['Label'] == 6].shape)\n",
    "print(table.loc[table['Label'] == 6])"
   ]
  },
  {
   "cell_type": "code",
   "execution_count": 94,
   "metadata": {},
   "outputs": [
    {
     "name": "stdout",
     "output_type": "stream",
     "text": [
      "(14, 2)\n",
      "           Player Name  Label\n",
      "49        Jrue Holiday      7\n",
      "109      Stephen Curry      7\n",
      "114   D'Angelo Russell      7\n",
      "139       Lou Williams      7\n",
      "173       Jimmy Butler      7\n",
      "222  Spencer Dinwiddie      7\n",
      "253      Evan Fournier      7\n",
      "274    Malcolm Brogdon      7\n",
      "338       De'Aaron Fox      7\n",
      "348      DeMar DeRozan      7\n",
      "375         Kyle Lowry      7\n",
      "384      Fred VanVleet      7\n",
      "419          Ja Morant      7\n",
      "466    Devonte' Graham      7\n"
     ]
    }
   ],
   "source": [
    "print(table.loc[table['Label'] == 7].shape)\n",
    "print(table.loc[table['Label'] == 7])"
   ]
  },
  {
   "cell_type": "code",
   "execution_count": 95,
   "metadata": {},
   "outputs": [
    {
     "name": "stdout",
     "output_type": "stream",
     "text": [
      "(45, 2)\n",
      "                 Player Name  Label\n",
      "3                   Alex Len      8\n",
      "6               Damian Jones      8\n",
      "13               Cam Reddish      8\n",
      "17               Enes Kanter      8\n",
      "24              Daniel Theis      8\n",
      "39           Larry Nance Jr.      8\n",
      "50            Derrick Favors      8\n",
      "53             Jahlil Okafor      8\n",
      "61              Jaxson Hayes      8\n",
      "64            Thaddeus Young      8\n",
      "84             Dwight Powell      8\n",
      "87          Boban Marjanovic      8\n",
      "88       Dorian Finney-Smith      8\n",
      "90               Maxi Kleber      8\n",
      "97             Mason Plumlee      8\n",
      "112           Draymond Green      8\n",
      "115      Willie Cauley-Stein      8\n",
      "117          Marquese Chriss      8\n",
      "120           Omari Spellman      8\n",
      "128              P.J. Tucker      8\n",
      "140         Patrick Beverley      8\n",
      "145           JaMychal Green      8\n",
      "148              Ivica Zubac      8\n",
      "156            Dwight Howard      8\n",
      "159             JaVale McGee      8\n",
      "160              Danny Green      8\n",
      "176             Kelly Olynyk      8\n",
      "187           Ersan Ilyasova      8\n",
      "188              Brook Lopez      8\n",
      "201         Donte DiVincenzo      8\n",
      "213              Josh Okogie      8\n",
      "219           DeAndre Jordan      8\n",
      "239             Bobby Portis      8\n",
      "245        Mitchell Robinson      8\n",
      "317            Kent Bazemore      8\n",
      "323             Zach Collins      8\n",
      "352          Dejounte Murray      8\n",
      "362             Nerlens Noel      8\n",
      "370           Hamidou Diallo      8\n",
      "376               Marc Gasol      8\n",
      "379  Rondae Hollis-Jefferson      8\n",
      "423              Ian Mahinmi      8\n",
      "432           Troy Brown Jr.      8\n",
      "448           Christian Wood      8\n",
      "458          Bismack Biyombo      8\n"
     ]
    }
   ],
   "source": [
    "print(table.loc[table['Label'] == 8].shape)\n",
    "print(table.loc[table['Label'] == 8])"
   ]
  },
  {
   "cell_type": "code",
   "execution_count": 96,
   "metadata": {},
   "outputs": [
    {
     "name": "stdout",
     "output_type": "stream",
     "text": [
      "(10, 2)\n",
      "          Player Name  Label\n",
      "33         Kevin Love      9\n",
      "100      Nikola Jokic      9\n",
      "134      Clint Capela      9\n",
      "179       Bam Adebayo      9\n",
      "251    Nikola Vucevic      9\n",
      "273  Domantas Sabonis      9\n",
      "308     Deandre Ayton      9\n",
      "315  Hassan Whiteside      9\n",
      "396       Rudy Gobert      9\n",
      "444    Andre Drummond      9\n"
     ]
    }
   ],
   "source": [
    "print(table.loc[table['Label'] == 9].shape)\n",
    "print(table.loc[table['Label'] == 9])"
   ]
  },
  {
   "cell_type": "code",
   "execution_count": 97,
   "metadata": {},
   "outputs": [
    {
     "name": "stdout",
     "output_type": "stream",
     "text": [
      "(52, 2)\n",
      "                  Player Name  Label\n",
      "7             DeAndre' Bembry     10\n",
      "10              Kevin Huerter     10\n",
      "19             Brad Wanamaker     10\n",
      "29             Tremont Waters     10\n",
      "46           Kevin Porter Jr.     10\n",
      "57              Frank Jackson     10\n",
      "62   Nickeil Alexander-Walker     10\n",
      "69                  Kris Dunn     10\n",
      "70           Denzel Valentine     10\n",
      "76         Chandler Hutchison     10\n",
      "86               Delon Wright     10\n",
      "92              Jalen Brunson     10\n",
      "104              Monte Morris     10\n",
      "121                 Ky Bowman     10\n",
      "123              Jordan Poole     10\n",
      "132             Austin Rivers     10\n",
      "157               Rajon Rondo     10\n",
      "163  Kentavious Caldwell-Pope     10\n",
      "178         Derrick Jones Jr.     10\n",
      "191           Wesley Matthews     10\n",
      "205            Shabazz Napier     10\n",
      "212          Keita Bates-Diop     10\n",
      "216            Jarrett Culver     10\n",
      "237             Elfrid Payton     10\n",
      "241           Frank Ntilikina     10\n",
      "243              Kadeem Allen     10\n",
      "244             Kevin Knox II     10\n",
      "246             Allonzo Trier     10\n",
      "266            Justin Holiday     10\n",
      "271            T.J. McConnell     10\n",
      "286                Trey Burke     10\n",
      "287           James Ennis III     10\n",
      "293            Furkan Korkmaz     10\n",
      "301             Tyler Johnson     10\n",
      "306             Mikal Bridges     10\n",
      "331               Cory Joseph     10\n",
      "367               Abdel Nader     10\n",
      "389             Terence Davis     10\n",
      "393                Jeff Green     10\n",
      "398                Joe Ingles     10\n",
      "399           Emmanuel Mudiay     10\n",
      "410              Solomon Hill     10\n",
      "413                Tyus Jones     10\n",
      "415             Grayson Allen     10\n",
      "417         De'Anthony Melton     10\n",
      "430              Jordan McRae     10\n",
      "443            Reggie Jackson     10\n",
      "445                Tony Snell     10\n",
      "451               Bruce Brown     10\n",
      "456           Marvin Williams     10\n",
      "463                Malik Monk     10\n",
      "464              Dwayne Bacon     10\n"
     ]
    }
   ],
   "source": [
    "print(table.loc[table['Label'] == 10].shape)\n",
    "print(table.loc[table['Label'] == 10])"
   ]
  },
  {
   "cell_type": "code",
   "execution_count": 98,
   "metadata": {},
   "outputs": [
    {
     "name": "stdout",
     "output_type": "stream",
     "text": [
      "(12, 2)\n",
      "           Player Name  Label\n",
      "18        Kemba Walker     11\n",
      "54      Brandon Ingram     11\n",
      "67         Zach LaVine     11\n",
      "129  Russell Westbrook     11\n",
      "141        Paul George     11\n",
      "143      Kawhi Leonard     11\n",
      "207     Andrew Wiggins     11\n",
      "304       Devin Booker     11\n",
      "318        CJ McCollum     11\n",
      "336        Buddy Hield     11\n",
      "383      Pascal Siakam     11\n",
      "402   Donovan Mitchell     11\n"
     ]
    }
   ],
   "source": [
    "print(table.loc[table['Label'] == 11].shape)\n",
    "print(table.loc[table['Label'] == 11])"
   ]
  },
  {
   "cell_type": "code",
   "execution_count": 99,
   "metadata": {},
   "outputs": [
    {
     "name": "stdout",
     "output_type": "stream",
     "text": [
      "(53, 2)\n",
      "              Player Name  Label\n",
      "12        Brandon Goodwin     12\n",
      "15      Charles Brown Jr.     12\n",
      "28         Romeo Langford     12\n",
      "47              Dean Wade     12\n",
      "52          Darius Miller     12\n",
      "55              Josh Gray     12\n",
      "60         Zylan Cheatham     12\n",
      "68      Cristiano Felicio     12\n",
      "91     Antonius Cleveland     12\n",
      "105         Vlatko Cancar     12\n",
      "108     Jarred Vanderbilt     12\n",
      "110         Klay Thompson     12\n",
      "125                  Nene     12\n",
      "126          Gerald Green     12\n",
      "149      Johnathan Motley     12\n",
      "168  Kostas Antetokounmpo     12\n",
      "169   Talen Horton-Tucker     12\n",
      "174          Dion Waiters     12\n",
      "181           Daryl Macon     12\n",
      "184             KZ Okpala     12\n",
      "199           Frank Mason     12\n",
      "217         Jaylen Nowell     12\n",
      "218              Naz Reid     12\n",
      "224        Henry Ellenson     12\n",
      "261       Amile Jefferson     12\n",
      "263    Melvin Frazier Jr.     12\n",
      "264            BJ Johnson     12\n",
      "267        Victor Oladipo     12\n",
      "278        Brian Bowen II     12\n",
      "294          Jonah Bolden     12\n",
      "296          Zhaire Smith     12\n",
      "310          Jared Harper     12\n",
      "320          Jusuf Nurkic     12\n",
      "340        Caleb Swanigan     12\n",
      "343       DaQuan Jeffries     12\n",
      "359        Keldon Johnson     12\n",
      "363        Andre Roberson     12\n",
      "368         Justin Patton     12\n",
      "378       Stanley Johnson     12\n",
      "381        Malcolm Miller     12\n",
      "387        Shamorie Ponds     12\n",
      "388        Oshae Brissett     12\n",
      "404   Nigel Williams-Goss     12\n",
      "405              Miye Oni     12\n",
      "406      Jarrell Brantley     12\n",
      "407          Juwan Morgan     12\n",
      "421          John Konchar     12\n",
      "425             John Wall     12\n",
      "437       Justin Robinson     12\n",
      "439      Garrison Mathews     12\n",
      "453          Khyri Thomas     12\n",
      "454       Sekou Doumbouya     12\n",
      "455           Jordan Bone     12\n"
     ]
    }
   ],
   "source": [
    "print(table.loc[table['Label'] == 12].shape)\n",
    "print(table.loc[table['Label'] == 12])"
   ]
  },
  {
   "cell_type": "code",
   "execution_count": 100,
   "metadata": {},
   "outputs": [
    {
     "name": "stdout",
     "output_type": "stream",
     "text": [
      "(53, 2)\n",
      "             Player Name  Label\n",
      "0           Vince Carter     13\n",
      "1            Evan Turner     13\n",
      "4           Allen Crabbe     13\n",
      "9         Bruno Fernando     13\n",
      "25        Carsen Edwards     13\n",
      "27            Tacko Fall     13\n",
      "35        Brandon Knight     13\n",
      "36           John Henson     13\n",
      "41            Ante Zizic     13\n",
      "63          Nicolo Melli     13\n",
      "71      Ryan Arcidiacono     13\n",
      "79        Daniel Gafford     13\n",
      "81          Courtney Lee     13\n",
      "89        Justin Jackson     13\n",
      "101        Malik Beasley     13\n",
      "103  Juancho Hernangomez     13\n",
      "107   Michael Porter Jr.     13\n",
      "119          Jacob Evans     13\n",
      "137           Gary Clark     13\n",
      "138        Chris Clemons     13\n",
      "146      Rodney McGruder     13\n",
      "164         Troy Daniels     13\n",
      "165           Quinn Cook     13\n",
      "166          Alex Caruso     13\n",
      "186          Kyle Korver     13\n",
      "189          Robin Lopez     13\n",
      "197        Dragan Bender     13\n",
      "198          D.J. Wilson     13\n",
      "214         Kelan Martin     13\n",
      "228          David Nwaba     13\n",
      "230          Theo Pinson     13\n",
      "231          Dzanan Musa     13\n",
      "235      Wayne Ellington     13\n",
      "240     Dennis Smith Jr.     13\n",
      "242       Damyean Dotson     13\n",
      "270       JaKarr Sampson     13\n",
      "276        Edmond Sumner     13\n",
      "277      Naz Mitrou-Long     13\n",
      "288            Raul Neto     13\n",
      "295         Shake Milton     13\n",
      "297     Matisse Thybulle     13\n",
      "305        Cheick Diallo     13\n",
      "307         Jevon Carter     13\n",
      "309           Elie Okobo     13\n",
      "337         Yogi Ferrell     13\n",
      "347      Marco Belinelli     13\n",
      "357     Lonnie Walker IV     13\n",
      "369    Terrance Ferguson     13\n",
      "391          Matt Thomas     13\n",
      "401        Georges Niang     13\n",
      "422        Marko Guduric     13\n",
      "424             CJ Miles     13\n",
      "452       Svi Mykhailiuk     13\n"
     ]
    }
   ],
   "source": [
    "print(table.loc[table['Label'] == 13].shape)\n",
    "print(table.loc[table['Label'] == 13])"
   ]
  },
  {
   "cell_type": "code",
   "execution_count": 101,
   "metadata": {},
   "outputs": [
    {
     "name": "stdout",
     "output_type": "stream",
     "text": [
      "(4, 2)\n",
      "               Player Name  Label\n",
      "162          Anthony Davis     14\n",
      "194  Giannis Antetokounmpo     14\n",
      "208     Karl-Anthony Towns     14\n",
      "290            Joel Embiid     14\n"
     ]
    }
   ],
   "source": [
    "print(table.loc[table['Label'] == 14].shape)\n",
    "print(table.loc[table['Label'] == 14])"
   ]
  },
  {
   "cell_type": "markdown",
   "metadata": {},
   "source": [
    "Conclusion from doing this clustering, there are clear distinctions for: 1) big men, 2) star players\n",
    "All other clusters are less distinctive, and this is the large trend of positionless players. I guess you cant clearly make distinctions based on the counting stats.\n",
    "\n",
    "Cant tell from their statistics. As you increase the number of clusters there is some distinction into 3&D players, unicorns, ultra efficient players, shooters, iso scoring wings, \"non primary\" scorers, bench players (no stats), star guard players, mid tier \"forward\" players, but theres a lot of groups still with no real commanality other than that they're just positionless players. Seems like this is the best we can get to, there are some obvious groupings that any fan can make, so this now supports it :) "
   ]
  }
 ],
 "metadata": {
  "kernelspec": {
   "display_name": "Python 3",
   "language": "python",
   "name": "python3"
  },
  "language_info": {
   "codemirror_mode": {
    "name": "ipython",
    "version": 3
   },
   "file_extension": ".py",
   "mimetype": "text/x-python",
   "name": "python",
   "nbconvert_exporter": "python",
   "pygments_lexer": "ipython3",
   "version": "3.6.7"
  }
 },
 "nbformat": 4,
 "nbformat_minor": 2
}
