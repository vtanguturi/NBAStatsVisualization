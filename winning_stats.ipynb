{
 "cells": [
  {
   "cell_type": "code",
   "execution_count": 2,
   "metadata": {},
   "outputs": [],
   "source": [
    "##Imports\n",
    "%matplotlib inline\n",
    "import requests\n",
    "import matplotlib.pyplot as plt\n",
    "import numpy as np\n",
    "import pandas as pd\n",
    "import seaborn as sns\n",
    "import json\n",
    "## This is to get the connection to the nba endpoints correctly (hot fix to work until they push changes)\n",
    "headers = {\n",
    "    'Host': 'stats.nba.com',\n",
    "    'User-Agent': 'Mozilla/5.0 (Windows NT 10.0; Win64; x64; rv:61.0) Gecko/20100101 Firefox/61.0',\n",
    "    'Accept': 'application/json, text/plain, */*',\n",
    "    'Accept-Language': 'en-US,en;q=0.5',\n",
    "    'Referer': 'https://stats.nba.com/',\n",
    "    'Accept-Encoding': 'gzip, deflate, br',\n",
    "    'Connection': 'keep-alive',\n",
    "    'x-nba-stats-origin': 'stats',\n",
    "    'x-nba-stats-token': 'true'\n",
    "}"
   ]
  },
  {
   "cell_type": "code",
   "execution_count": 3,
   "metadata": {},
   "outputs": [
    {
     "data": {
      "text/html": [
       "<div>\n",
       "<style scoped>\n",
       "    .dataframe tbody tr th:only-of-type {\n",
       "        vertical-align: middle;\n",
       "    }\n",
       "\n",
       "    .dataframe tbody tr th {\n",
       "        vertical-align: top;\n",
       "    }\n",
       "\n",
       "    .dataframe thead th {\n",
       "        text-align: right;\n",
       "    }\n",
       "</style>\n",
       "<table border=\"1\" class=\"dataframe\">\n",
       "  <thead>\n",
       "    <tr style=\"text-align: right;\">\n",
       "      <th></th>\n",
       "      <th>SEASON_ID</th>\n",
       "      <th>Player_ID</th>\n",
       "      <th>Game_ID</th>\n",
       "      <th>GAME_DATE</th>\n",
       "      <th>MATCHUP</th>\n",
       "      <th>WL</th>\n",
       "      <th>MIN</th>\n",
       "      <th>FGM</th>\n",
       "      <th>FGA</th>\n",
       "      <th>FG_PCT</th>\n",
       "      <th>...</th>\n",
       "      <th>DREB</th>\n",
       "      <th>REB</th>\n",
       "      <th>AST</th>\n",
       "      <th>STL</th>\n",
       "      <th>BLK</th>\n",
       "      <th>TOV</th>\n",
       "      <th>PF</th>\n",
       "      <th>PTS</th>\n",
       "      <th>PLUS_MINUS</th>\n",
       "      <th>VIDEO_AVAILABLE</th>\n",
       "    </tr>\n",
       "  </thead>\n",
       "  <tbody>\n",
       "    <tr>\n",
       "      <th>0</th>\n",
       "      <td>22019</td>\n",
       "      <td>2544</td>\n",
       "      <td>0021900417</td>\n",
       "      <td>DEC 19, 2019</td>\n",
       "      <td>LAL @ MIL</td>\n",
       "      <td>L</td>\n",
       "      <td>37</td>\n",
       "      <td>8</td>\n",
       "      <td>19</td>\n",
       "      <td>0.421</td>\n",
       "      <td>...</td>\n",
       "      <td>12</td>\n",
       "      <td>12</td>\n",
       "      <td>11</td>\n",
       "      <td>0</td>\n",
       "      <td>0</td>\n",
       "      <td>4</td>\n",
       "      <td>5</td>\n",
       "      <td>21</td>\n",
       "      <td>-14</td>\n",
       "      <td>1</td>\n",
       "    </tr>\n",
       "    <tr>\n",
       "      <th>1</th>\n",
       "      <td>22019</td>\n",
       "      <td>2544</td>\n",
       "      <td>0021900402</td>\n",
       "      <td>DEC 17, 2019</td>\n",
       "      <td>LAL @ IND</td>\n",
       "      <td>L</td>\n",
       "      <td>35</td>\n",
       "      <td>8</td>\n",
       "      <td>20</td>\n",
       "      <td>0.400</td>\n",
       "      <td>...</td>\n",
       "      <td>8</td>\n",
       "      <td>9</td>\n",
       "      <td>9</td>\n",
       "      <td>0</td>\n",
       "      <td>0</td>\n",
       "      <td>5</td>\n",
       "      <td>2</td>\n",
       "      <td>20</td>\n",
       "      <td>-9</td>\n",
       "      <td>1</td>\n",
       "    </tr>\n",
       "    <tr>\n",
       "      <th>2</th>\n",
       "      <td>22019</td>\n",
       "      <td>2544</td>\n",
       "      <td>0021900390</td>\n",
       "      <td>DEC 15, 2019</td>\n",
       "      <td>LAL @ ATL</td>\n",
       "      <td>W</td>\n",
       "      <td>37</td>\n",
       "      <td>12</td>\n",
       "      <td>21</td>\n",
       "      <td>0.571</td>\n",
       "      <td>...</td>\n",
       "      <td>12</td>\n",
       "      <td>13</td>\n",
       "      <td>7</td>\n",
       "      <td>1</td>\n",
       "      <td>3</td>\n",
       "      <td>4</td>\n",
       "      <td>1</td>\n",
       "      <td>32</td>\n",
       "      <td>10</td>\n",
       "      <td>1</td>\n",
       "    </tr>\n",
       "    <tr>\n",
       "      <th>3</th>\n",
       "      <td>22019</td>\n",
       "      <td>2544</td>\n",
       "      <td>0021900374</td>\n",
       "      <td>DEC 13, 2019</td>\n",
       "      <td>LAL @ MIA</td>\n",
       "      <td>W</td>\n",
       "      <td>37</td>\n",
       "      <td>11</td>\n",
       "      <td>22</td>\n",
       "      <td>0.500</td>\n",
       "      <td>...</td>\n",
       "      <td>7</td>\n",
       "      <td>9</td>\n",
       "      <td>12</td>\n",
       "      <td>1</td>\n",
       "      <td>0</td>\n",
       "      <td>8</td>\n",
       "      <td>2</td>\n",
       "      <td>28</td>\n",
       "      <td>9</td>\n",
       "      <td>1</td>\n",
       "    </tr>\n",
       "    <tr>\n",
       "      <th>4</th>\n",
       "      <td>22019</td>\n",
       "      <td>2544</td>\n",
       "      <td>0021900358</td>\n",
       "      <td>DEC 11, 2019</td>\n",
       "      <td>LAL @ ORL</td>\n",
       "      <td>W</td>\n",
       "      <td>38</td>\n",
       "      <td>11</td>\n",
       "      <td>24</td>\n",
       "      <td>0.458</td>\n",
       "      <td>...</td>\n",
       "      <td>9</td>\n",
       "      <td>11</td>\n",
       "      <td>10</td>\n",
       "      <td>2</td>\n",
       "      <td>0</td>\n",
       "      <td>6</td>\n",
       "      <td>2</td>\n",
       "      <td>25</td>\n",
       "      <td>8</td>\n",
       "      <td>1</td>\n",
       "    </tr>\n",
       "  </tbody>\n",
       "</table>\n",
       "<p>5 rows × 27 columns</p>\n",
       "</div>"
      ],
      "text/plain": [
       "  SEASON_ID  Player_ID     Game_ID     GAME_DATE    MATCHUP WL  MIN  FGM  FGA  \\\n",
       "0     22019       2544  0021900417  DEC 19, 2019  LAL @ MIL  L   37    8   19   \n",
       "1     22019       2544  0021900402  DEC 17, 2019  LAL @ IND  L   35    8   20   \n",
       "2     22019       2544  0021900390  DEC 15, 2019  LAL @ ATL  W   37   12   21   \n",
       "3     22019       2544  0021900374  DEC 13, 2019  LAL @ MIA  W   37   11   22   \n",
       "4     22019       2544  0021900358  DEC 11, 2019  LAL @ ORL  W   38   11   24   \n",
       "\n",
       "   FG_PCT  ...  DREB  REB  AST  STL  BLK  TOV  PF  PTS  PLUS_MINUS  \\\n",
       "0   0.421  ...    12   12   11    0    0    4   5   21         -14   \n",
       "1   0.400  ...     8    9    9    0    0    5   2   20          -9   \n",
       "2   0.571  ...    12   13    7    1    3    4   1   32          10   \n",
       "3   0.500  ...     7    9   12    1    0    8   2   28           9   \n",
       "4   0.458  ...     9   11   10    2    0    6   2   25           8   \n",
       "\n",
       "   VIDEO_AVAILABLE  \n",
       "0                1  \n",
       "1                1  \n",
       "2                1  \n",
       "3                1  \n",
       "4                1  \n",
       "\n",
       "[5 rows x 27 columns]"
      ]
     },
     "execution_count": 3,
     "metadata": {},
     "output_type": "execute_result"
    }
   ],
   "source": [
    "from nba_api.stats.endpoints import playergamelog\n",
    "## Lebron James\n",
    "pgl = playergamelog.PlayerGameLog(player_id=2544, headers=headers)\n",
    "gamelog = pgl.get_data_frames()[0]\n",
    "gamelog.head()"
   ]
  },
  {
   "cell_type": "code",
   "execution_count": 4,
   "metadata": {},
   "outputs": [
    {
     "data": {
      "image/png": "[encoded data removed]",
      "text/plain": [
       "<Figure size 432x360 with 1 Axes>"
      ]
     },
     "metadata": {},
     "output_type": "display_data"
    }
   ],
   "source": [
    "sns.set_style(\"white\")\n",
    "sns.set_color_codes()\n",
    "plt.figure(figsize=(6,5))\n",
    "plt.title('Lebron James FG_PCT')\n",
    "plt.plot(range(gamelog.shape[0]), gamelog.FG_PCT)\n",
    "plt.show()"
   ]
  },
  {
   "cell_type": "code",
   "execution_count": 5,
   "metadata": {},
   "outputs": [
    {
     "data": {
      "image/png": "[encoded data removed]",
      "text/plain": [
       "<Figure size 432x360 with 1 Axes>"
      ]
     },
     "metadata": {},
     "output_type": "display_data"
    }
   ],
   "source": [
    "sns.set_style(\"white\")\n",
    "sns.set_color_codes()\n",
    "plt.figure(figsize=(6,5))\n",
    "plt.title('Lebron James MIN')\n",
    "plt.plot(range(gamelog.shape[0]), gamelog.MIN)\n",
    "plt.show()"
   ]
  },
  {
   "cell_type": "code",
   "execution_count": 10,
   "metadata": {},
   "outputs": [
    {
     "name": "stdout",
     "output_type": "stream",
     "text": [
      "['SEASON_ID' 'Player_ID' 'Game_ID' 'GAME_DATE' 'MATCHUP' 'WL' 'MIN' 'FGM'\n",
      " 'FGA' 'FG_PCT' 'FG3M' 'FG3A' 'FG3_PCT' 'FTM' 'FTA' 'FT_PCT' 'OREB' 'DREB'\n",
      " 'REB' 'AST' 'STL' 'BLK' 'TOV' 'PF' 'PTS' 'PLUS_MINUS' 'VIDEO_AVAILABLE']\n"
     ]
    }
   ],
   "source": [
    "print(gamelog.columns.values)"
   ]
  },
  {
   "cell_type": "code",
   "execution_count": 35,
   "metadata": {},
   "outputs": [],
   "source": [
    "from enum import Enum\n",
    "\n",
    "class ScoreType(Enum):\n",
    "    STATS_WIN_INDEX = 'stat win index'\n",
    "    STATS_WIN_SCORE = 'stat win'"
   ]
  },
  {
   "cell_type": "code",
   "execution_count": 43,
   "metadata": {},
   "outputs": [],
   "source": [
    "### This is IDEA #2\n",
    "### TODO: Experiment with different methods to get metrics, try to get like 4 different ones, so far 2/4.\n",
    "### TODO: Construct this as a class so we can call these methods on a player object DESIGN LOLOLOL :/\n",
    "### The class would have to have the enum type as a parmeter because its being passed in a lot of these comparing and plots\n",
    "\n",
    "## This follows a fantasy points style ScoreType.STATS_WIN_INDEX\n",
    "def determine_stats_win_index(player_game_data):\n",
    "    \n",
    "    stats_win_index = player_game_data.PTS + (2 * player_game_data.AST) \n",
    "    + (1.5 * player_game_data.REB) - 2 * (player_game_data.TOV + player_game_data.PF)\n",
    "    + 2 * (player_game_data.STL + player_game_data.BLK)\n",
    "    \n",
    "    return stats_win_index\n",
    "\n",
    "## This follows a custom built score dawg: ScoreType.STATS_WIN_SCORE\n",
    "def determine_stats_win_score(player_game_data):\n",
    "    ## Following are attributes of a game:\n",
    "    scoring = (2 * player_game_data.FG_PCT + 3 * player_game_data.FG3_PCT + player_game_data.FT_PCT) * player_game_data.PTS / (2+3+1)\n",
    "    ballhandling = 2 * player_game_data.AST - (player_game_data.FGA - player_game_data.FGM) - 1.2 * (player_game_data.TOV)\n",
    "    defense = 5 * (player_game_data.STL + player_game_data.BLK) - 4 * (player_game_data.PF) + 2 * player_game_data.DREB\n",
    "    stats_win_score = scoring + ballhandling + defense\n",
    "    return stats_win_score\n",
    "\n",
    "def plot_stats_to_winning(player_game_data, player_name, scoreType):\n",
    "    swi = []\n",
    "    if scoreType.value == 'stat win index':\n",
    "        swi = determine_stats_win_index(player_game_data)\n",
    "    elif scoreType.value == 'stat win':\n",
    "        swi = determine_stats_win_score(player_game_data)\n",
    "        \n",
    "    plt.scatter(swi, player_game_data.PLUS_MINUS, s=300, c=player_game_data.FG_PCT)\n",
    "    plt.title(player_name + \". His score is: \" + str(determine_player_winning_score(player_game_data, scoreType)))\n",
    "    plt.show()"
   ]
  },
  {
   "cell_type": "code",
   "execution_count": 44,
   "metadata": {},
   "outputs": [],
   "source": [
    "def determine_player_winning_score(player_game_data, scoreType):\n",
    "    swi = []\n",
    "    if scoreType.value == 'stat win index':\n",
    "        swi = determine_stats_win_index(player_game_data)\n",
    "    elif scoreType.value == 'stat win':\n",
    "        swi = determine_stats_win_score(player_game_data)\n",
    "    try:\n",
    "        return np.round(np.mean(player_game_data.PLUS_MINUS.values * swi.values * player_game_data.MIN.values / 48),2)\n",
    "    except ZeroDivisionError:\n",
    "        return 0.01\n",
    "\n",
    "def rank_player_winning_scores(team, efficiencies, n, scoreType):\n",
    "    top_n_players = sorted(efficiencies.keys(), reverse=True)\n",
    "    print(top_n_players)\n",
    "    print(\"Top \" + str(n) + \" players on the \" + team)\n",
    "    for i in range(n):\n",
    "        print(str(i) + \". \" + efficiencies[top_n_players[i]] + \" has a \" + scoreType.value + \" score of: \" + str(top_n_players[i]))"
   ]
  },
  {
   "cell_type": "code",
   "execution_count": 38,
   "metadata": {},
   "outputs": [
    {
     "data": {
      "image/png": "[encoded data removed]",
      "text/plain": [
       "<Figure size 432x288 with 1 Axes>"
      ]
     },
     "metadata": {},
     "output_type": "display_data"
    }
   ],
   "source": [
    "plot_stats_to_winning(gamelog, 'Lebron James', ScoreType.STATS_WIN_INDEX)"
   ]
  },
  {
   "cell_type": "code",
   "execution_count": 26,
   "metadata": {},
   "outputs": [
    {
     "name": "stdout",
     "output_type": "stream",
     "text": [
      "{'ATL': 1610612737, 'BOS': 1610612738, 'CLE': 1610612739, 'NOP': 1610612740, 'CHI': 1610612741, 'DAL': 1610612742, 'DEN': 1610612743, 'GSW': 1610612744, 'HOU': 1610612745, 'LAC': 1610612746, 'LAL': 1610612747, 'MIA': 1610612748, 'MIL': 1610612749, 'MIN': 1610612750, 'BKN': 1610612751, 'NYK': 1610612752, 'ORL': 1610612753, 'IND': 1610612754, 'PHI': 1610612755, 'PHX': 1610612756, 'POR': 1610612757, 'SAC': 1610612758, 'SAS': 1610612759, 'OKC': 1610612760, 'TOR': 1610612761, 'UTA': 1610612762, 'MEM': 1610612763, 'WAS': 1610612764, 'DET': 1610612765, 'CHA': 1610612766}\n"
     ]
    }
   ],
   "source": [
    "## Build the team name to team_id map\n",
    "from nba_api.stats.static import teams\n",
    "nba_teams = teams.get_teams()\n",
    "list_teams = ['ATL', 'BOS', 'CLE', 'NOP', 'CHI', 'DAL', 'DEN', 'GSW', 'HOU', 'LAC', 'LAL'\n",
    "        , 'MIA', 'MIL', 'MIN', 'BKN', 'NYK', 'ORL', 'IND', 'PHI', 'PHX', 'POR', 'SAC'\n",
    "        , 'SAS', 'OKC', 'TOR', 'UTA', 'MEM', 'WAS', 'DET', 'CHA']\n",
    "i = 0\n",
    "team_to_id = {}\n",
    "for t in list_teams:\n",
    "    team_to_id.update({t: nba_teams[i]['id']})\n",
    "    i += 1\n",
    "print(team_to_id)"
   ]
  },
  {
   "cell_type": "code",
   "execution_count": 39,
   "metadata": {},
   "outputs": [],
   "source": [
    "# Make API Call for players across all seasons for a particular franchise\n",
    "from nba_api.stats.endpoints import franchiseplayers\n",
    "\n",
    "def get_winning_stats_per_team(team, scoreType):\n",
    "    fp = franchiseplayers.FranchisePlayers(team_id=team_to_id[team], headers=headers)\n",
    "    PLAYERS = fp.get_data_frames()[0]\n",
    "    # Build the list of players in the 2019-2020 season\n",
    "    active_players = PLAYERS.loc[PLAYERS['ACTIVE_WITH_TEAM'] == 1]\n",
    "    ids_per_team = active_players['PERSON_ID'].values\n",
    "    player_names = active_players['PLAYER'].values\n",
    "    print(player_names)\n",
    "    players_per_team = dict(zip(ids_per_team, player_names))\n",
    "    effectiveness = []\n",
    "    players = []\n",
    "    ## Get the winning_stats_for a player\n",
    "    for player in players_per_team:\n",
    "        pgl = playergamelog.PlayerGameLog(player_id=player, headers=headers)\n",
    "        player_game_data = pgl.get_data_frames()[0]\n",
    "        effectiveness.append(determine_player_winning_score(player_game_data, scoreType))\n",
    "        players.append(players_per_team[player])\n",
    "        #plot_stats_to_winning(player_game_data, players_per_team[player], scoreType)\n",
    "        \n",
    "    effect = dict(zip(effectiveness, players)) \n",
    "    rank_player_winning_scores(team, effect, 5, scoreType)"
   ]
  },
  {
   "cell_type": "code",
   "execution_count": 40,
   "metadata": {},
   "outputs": [
    {
     "name": "stdout",
     "output_type": "stream",
     "text": [
      "['LeBron James' 'Dwight Howard' 'Rajon Rondo' 'Jared Dudley'\n",
      " 'JaVale McGee' 'Danny Green' 'Avery Bradley' 'Anthony Davis'\n",
      " 'Kentavious Caldwell-Pope' 'Troy Daniels' 'Quinn Cook' 'Alex Caruso'\n",
      " 'Kyle Kuzma' 'Kostas Antetokounmpo' 'Talen Horton-Tucker']\n",
      "[294.63, 173.53, 58.95, 45.52, 40.0, 37.09, 27.81, 27.23, 21.64, 20.67, 14.55, 3.37, 2.18, 0.0]\n",
      "Top 5 players on the LAL\n",
      "0. LeBron James has a stat win index score of: 294.63\n",
      "1. Anthony Davis has a stat win index score of: 173.53\n",
      "2. Rajon Rondo has a stat win index score of: 58.95\n",
      "3. Kyle Kuzma has a stat win index score of: 45.52\n",
      "4. Danny Green has a stat win index score of: 40.0\n"
     ]
    }
   ],
   "source": [
    "get_winning_stats_per_team(\"LAL\", ScoreType.STATS_WIN_INDEX)"
   ]
  },
  {
   "cell_type": "code",
   "execution_count": 41,
   "metadata": {},
   "outputs": [
    {
     "name": "stdout",
     "output_type": "stream",
     "text": [
      "['LeBron James' 'Dwight Howard' 'Rajon Rondo' 'Jared Dudley'\n",
      " 'JaVale McGee' 'Danny Green' 'Avery Bradley' 'Anthony Davis'\n",
      " 'Kentavious Caldwell-Pope' 'Troy Daniels' 'Quinn Cook' 'Alex Caruso'\n",
      " 'Kyle Kuzma' 'Kostas Antetokounmpo' 'Talen Horton-Tucker']\n",
      "[222.73, 156.0, 71.45, 42.63, 35.87, 35.08, 28.59, 26.52, 17.98, 16.64, 6.98, 3.26, 0.78, 0.08, 0.0]\n",
      "Top 5 players on the LAL\n",
      "0. LeBron James has a stat win score of: 222.73\n",
      "1. Anthony Davis has a stat win score of: 156.0\n",
      "2. Rajon Rondo has a stat win score of: 71.45\n",
      "3. JaVale McGee has a stat win score of: 42.63\n",
      "4. Kyle Kuzma has a stat win score of: 35.87\n"
     ]
    }
   ],
   "source": [
    "get_winning_stats_per_team(\"LAL\", ScoreType.STATS_WIN_SCORE)"
   ]
  },
  {
   "cell_type": "code",
   "execution_count": 42,
   "metadata": {},
   "outputs": [
    {
     "name": "stdout",
     "output_type": "stream",
     "text": [
      "['Udonis Haslem' 'Goran Dragic' 'James Johnson' 'Jimmy Butler'\n",
      " 'Dion Waiters' 'Meyers Leonard' 'Kelly Olynyk' 'Justise Winslow'\n",
      " 'Derrick Jones Jr.' 'Bam Adebayo' 'Duncan Robinson' 'Daryl Macon'\n",
      " 'Kendrick Nunn' 'Tyler Herro' 'KZ Okpala' 'Chris Silva']\n"
     ]
    },
    {
     "name": "stderr",
     "output_type": "stream",
     "text": [
      "/home/vishnu/.local/lib/python3.6/site-packages/numpy/core/fromnumeric.py:3118: RuntimeWarning: Mean of empty slice.\n",
      "  out=out, **kwargs)\n"
     ]
    },
    {
     "name": "stdout",
     "output_type": "stream",
     "text": [
      "[241.06, 139.7, 115.86, 102.19, 67.51, 39.36, 33.09, 27.6, 26.73, 26.6, 4.56, 0.89, 0.27, 0.01, 0.0, -1.06]\n",
      "Top 5 players on the MIA\n",
      "0. Jimmy Butler has a stat win index score of: 241.06\n",
      "1. Bam Adebayo has a stat win index score of: 139.7\n",
      "2. Justise Winslow has a stat win index score of: 115.86\n",
      "3. Kendrick Nunn has a stat win index score of: 102.19\n",
      "4. Duncan Robinson has a stat win index score of: 67.51\n",
      "['Udonis Haslem' 'Goran Dragic' 'James Johnson' 'Jimmy Butler'\n",
      " 'Dion Waiters' 'Meyers Leonard' 'Kelly Olynyk' 'Justise Winslow'\n",
      " 'Derrick Jones Jr.' 'Bam Adebayo' 'Duncan Robinson' 'Daryl Macon'\n",
      " 'Kendrick Nunn' 'Tyler Herro' 'KZ Okpala' 'Chris Silva']\n",
      "[289.65, 139.42, 60.09, 54.45, 44.4, 42.98, 33.46, 31.8, 25.0, 14.13, 1.5, 0.93, 0.01, -0.02, -0.3, -23.37]\n",
      "Top 5 players on the MIA\n",
      "0. Jimmy Butler has a stat win score of: 289.65\n",
      "1. Bam Adebayo has a stat win score of: 139.42\n",
      "2. Justise Winslow has a stat win score of: 60.09\n",
      "3. Meyers Leonard has a stat win score of: 54.45\n",
      "4. Kendrick Nunn has a stat win score of: 44.4\n"
     ]
    }
   ],
   "source": [
    "get_winning_stats_per_team(\"MIA\", ScoreType.STATS_WIN_INDEX)\n",
    "get_winning_stats_per_team(\"MIA\", ScoreType.STATS_WIN_SCORE)"
   ]
  },
  {
   "cell_type": "code",
   "execution_count": 45,
   "metadata": {},
   "outputs": [
    {
     "name": "stdout",
     "output_type": "stream",
     "text": [
      "['Lou Williams' 'Patrick Beverley' 'Paul George' 'Patrick Patterson'\n",
      " 'Kawhi Leonard' 'Maurice Harkless' 'JaMychal Green' 'Rodney McGruder'\n",
      " 'Montrezl Harrell' 'Ivica Zubac' 'Johnathan Motley' 'Derrick Walton Jr.'\n",
      " 'Jerome Robinson' 'Landry Shamet' 'Terance Mann' 'Mfiondu Kabengele']\n",
      "[222.16, 150.98, 109.56, 95.68, 53.66, 35.8, 30.62, 22.77, 18.01, 16.62, 14.48, 11.64, 9.96, 4.98, 1.9, -0.38]\n",
      "Top 5 players on the LAC\n",
      "0. Kawhi Leonard has a stat win index score of: 222.16\n",
      "1. Paul George has a stat win index score of: 150.98\n",
      "2. Montrezl Harrell has a stat win index score of: 109.56\n",
      "3. Lou Williams has a stat win index score of: 95.68\n",
      "4. Patrick Beverley has a stat win index score of: 53.66\n",
      "['Lou Williams' 'Patrick Beverley' 'Paul George' 'Patrick Patterson'\n",
      " 'Kawhi Leonard' 'Maurice Harkless' 'JaMychal Green' 'Rodney McGruder'\n",
      " 'Montrezl Harrell' 'Ivica Zubac' 'Johnathan Motley' 'Derrick Walton Jr.'\n",
      " 'Jerome Robinson' 'Landry Shamet' 'Terance Mann' 'Mfiondu Kabengele']\n",
      "[163.74, 106.64, 84.43, 75.19, 61.16, 28.9, 24.34, 21.53, 21.25, 19.13, 18.45, 17.04, 16.43, 2.65, 1.33, -0.07]\n",
      "Top 5 players on the LAC\n",
      "0. Kawhi Leonard has a stat win score of: 163.74\n",
      "1. Paul George has a stat win score of: 106.64\n",
      "2. Patrick Beverley has a stat win score of: 84.43\n",
      "3. Montrezl Harrell has a stat win score of: 75.19\n",
      "4. Lou Williams has a stat win score of: 61.16\n"
     ]
    }
   ],
   "source": [
    "get_winning_stats_per_team(\"LAC\", ScoreType.STATS_WIN_INDEX)\n",
    "get_winning_stats_per_team(\"LAC\", ScoreType.STATS_WIN_SCORE)"
   ]
  },
  {
   "cell_type": "code",
   "execution_count": 46,
   "metadata": {},
   "outputs": [
    {
     "name": "stdout",
     "output_type": "stream",
     "text": [
      "['Gordon Hayward' 'Enes Kanter' 'Kemba Walker' 'Brad Wanamaker'\n",
      " 'Marcus Smart' 'Jaylen Brown' 'Jayson Tatum' 'Semi Ojeleye'\n",
      " 'Daniel Theis' 'Carsen Edwards' 'Robert Williams III' 'Tacko Fall'\n",
      " 'Romeo Langford' 'Tremont Waters' 'Grant Williams' 'Vincent Poirier'\n",
      " 'Javonte Green']\n",
      "[164.7, 161.27, 111.06, 108.33, 102.37, 64.28, 25.31, 23.52, 16.28, 14.08, 6.72, 3.19, 2.28, 2.16, 1.46, 1.01, -1.9]\n",
      "Top 5 players on the BOS\n",
      "0. Kemba Walker has a stat win index score of: 164.7\n",
      "1. Jayson Tatum has a stat win index score of: 161.27\n",
      "2. Jaylen Brown has a stat win index score of: 111.06\n",
      "3. Tremont Waters has a stat win index score of: 108.33\n",
      "4. Gordon Hayward has a stat win index score of: 102.37\n",
      "['Gordon Hayward' 'Enes Kanter' 'Kemba Walker' 'Brad Wanamaker'\n",
      " 'Marcus Smart' 'Jaylen Brown' 'Jayson Tatum' 'Semi Ojeleye'\n",
      " 'Daniel Theis' 'Carsen Edwards' 'Robert Williams III' 'Tacko Fall'\n",
      " 'Romeo Langford' 'Tremont Waters' 'Grant Williams' 'Vincent Poirier'\n",
      " 'Javonte Green']\n",
      "[125.38, 118.03, 101.12, 94.48, 71.61, 68.32, 50.89, 21.8, 16.41, 6.85, 2.05, 1.94, 1.1, -0.49, -0.96, -1.09, -3.26]\n",
      "Top 5 players on the BOS\n",
      "0. Kemba Walker has a stat win score of: 125.38\n",
      "1. Jayson Tatum has a stat win score of: 118.03\n",
      "2. Tremont Waters has a stat win score of: 101.12\n",
      "3. Gordon Hayward has a stat win score of: 94.48\n",
      "4. Jaylen Brown has a stat win score of: 71.61\n"
     ]
    }
   ],
   "source": [
    "get_winning_stats_per_team(\"BOS\", ScoreType.STATS_WIN_INDEX)\n",
    "get_winning_stats_per_team(\"BOS\", ScoreType.STATS_WIN_SCORE)"
   ]
  },
  {
   "cell_type": "code",
   "execution_count": 47,
   "metadata": {},
   "outputs": [
    {
     "name": "stdout",
     "output_type": "stream",
     "text": [
      "['Kyle Lowry' 'Marc Gasol' 'Serge Ibaka' 'Stanley Johnson'\n",
      " 'Rondae Hollis-Jefferson' 'Norman Powell' 'Malcolm Miller'\n",
      " 'Patrick McCaw' 'Pascal Siakam' 'Fred VanVleet' 'OG Anunoby'\n",
      " 'Chris Boucher' 'Shamorie Ponds' 'Oshae Brissett' 'Terence Davis'\n",
      " 'Dewan Hernandez' 'Matt Thomas']\n",
      "[189.61, 114.3, 76.47, 56.35, 52.81, 44.04, 31.0, 18.52, 15.71, 14.0, 11.5, 10.64, 2.48, 0.67, 0.09, 0.08, -0.19]\n",
      "Top 5 players on the TOR\n",
      "0. Pascal Siakam has a stat win index score of: 189.61\n",
      "1. Fred VanVleet has a stat win index score of: 114.3\n",
      "2. OG Anunoby has a stat win index score of: 76.47\n",
      "3. Kyle Lowry has a stat win index score of: 56.35\n",
      "4. Marc Gasol has a stat win index score of: 52.81\n",
      "['Kyle Lowry' 'Marc Gasol' 'Serge Ibaka' 'Stanley Johnson'\n",
      " 'Rondae Hollis-Jefferson' 'Norman Powell' 'Malcolm Miller'\n",
      " 'Patrick McCaw' 'Pascal Siakam' 'Fred VanVleet' 'OG Anunoby'\n",
      " 'Chris Boucher' 'Shamorie Ponds' 'Oshae Brissett' 'Terence Davis'\n",
      " 'Dewan Hernandez' 'Matt Thomas']\n",
      "[119.06, 114.75, 86.76, 67.84, 46.52, 35.06, 22.97, 8.34, 7.85, 7.14, 4.93, 1.76, 0.59, 0.41, 0.04, -0.29, -0.33]\n",
      "Top 5 players on the TOR\n",
      "0. Pascal Siakam has a stat win score of: 119.06\n",
      "1. Fred VanVleet has a stat win score of: 114.75\n",
      "2. OG Anunoby has a stat win score of: 86.76\n",
      "3. Marc Gasol has a stat win score of: 67.84\n",
      "4. Kyle Lowry has a stat win score of: 46.52\n"
     ]
    }
   ],
   "source": [
    "get_winning_stats_per_team(\"TOR\", ScoreType.STATS_WIN_INDEX)\n",
    "get_winning_stats_per_team(\"TOR\", ScoreType.STATS_WIN_SCORE)"
   ]
  },
  {
   "cell_type": "code",
   "execution_count": 48,
   "metadata": {},
   "outputs": [
    {
     "name": "stdout",
     "output_type": "stream",
     "text": [
      "['Al Horford' 'Tobias Harris' 'Mike Scott' \"Kyle O'Quinn\" 'Trey Burke'\n",
      " 'James Ennis III' 'Raul Neto' 'Norvel Pelle' 'Joel Embiid'\n",
      " 'Josh Richardson' 'Ben Simmons' 'Furkan Korkmaz' 'Jonah Bolden'\n",
      " 'Shake Milton' 'Zhaire Smith' 'Matisse Thybulle']\n",
      "[99.04, 88.49, 80.71, 75.71, 74.29, 46.11, 24.23, 19.1, 17.63, 8.7, 4.32, 2.98, 2.22, 0.42, 0.01, -0.04]\n",
      "Top 5 players on the PHI\n",
      "0. Joel Embiid has a stat win index score of: 99.04\n",
      "1. Ben Simmons has a stat win index score of: 88.49\n",
      "2. Josh Richardson has a stat win index score of: 80.71\n",
      "3. Al Horford has a stat win index score of: 75.71\n",
      "4. Tobias Harris has a stat win index score of: 74.29\n",
      "['Al Horford' 'Tobias Harris' 'Mike Scott' \"Kyle O'Quinn\" 'Trey Burke'\n",
      " 'James Ennis III' 'Raul Neto' 'Norvel Pelle' 'Joel Embiid'\n",
      " 'Josh Richardson' 'Ben Simmons' 'Furkan Korkmaz' 'Jonah Bolden'\n",
      " 'Shake Milton' 'Zhaire Smith' 'Matisse Thybulle']\n",
      "[98.63, 97.49, 83.65, 70.28, 46.04, 45.38, 36.1, 11.55, 11.34, 10.09, 8.11, 5.96, 0.29, 0.01, -1.61, -4.04]\n",
      "Top 5 players on the PHI\n",
      "0. Joel Embiid has a stat win score of: 98.63\n",
      "1. Ben Simmons has a stat win score of: 97.49\n",
      "2. Tobias Harris has a stat win score of: 83.65\n",
      "3. Al Horford has a stat win score of: 70.28\n",
      "4. Trey Burke has a stat win score of: 46.04\n"
     ]
    }
   ],
   "source": [
    "get_winning_stats_per_team(\"PHI\", ScoreType.STATS_WIN_INDEX)\n",
    "get_winning_stats_per_team(\"PHI\", ScoreType.STATS_WIN_SCORE)"
   ]
  }
 ],
 "metadata": {
  "kernelspec": {
   "display_name": "Python 3",
   "language": "python",
   "name": "python3"
  },
  "language_info": {
   "codemirror_mode": {
    "name": "ipython",
    "version": 3
   },
   "file_extension": ".py",
   "mimetype": "text/x-python",
   "name": "python",
   "nbconvert_exporter": "python",
   "pygments_lexer": "ipython3",
   "version": "3.6.7"
  }
 },
 "nbformat": 4,
 "nbformat_minor": 2
}
